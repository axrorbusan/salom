{
 "cells": [
  {
   "cell_type": "code",
   "execution_count": null,
   "id": "b06e74b9",
   "metadata": {},
   "outputs": [],
   "source": [
    "# 1\n",
    "#*nazorat qilinadigan ML turi va unda input va output beriladi. uni turlari regression and classification. farqi regressiion da output cheksiz boladi. classification da chekli\n",
    "df['column_name'].value_counts() orqali tekshirib olinadi"
   ]
  },
  {
   "cell_type": "code",
   "execution_count": null,
   "id": "f5772b57",
   "metadata": {},
   "outputs": [],
   "source": [
    "#2\n",
    "#*data toliq holatda bolishi kerak. tushib qolgan yoki aralash holatda emas. va kop bolishi kerak, qancha data kop bolsa shuncha yaxshi. data ml uchun numeric holatda bolishi kerak(encoding)"
   ]
  },
  {
   "cell_type": "code",
   "execution_count": null,
   "id": "86953490",
   "metadata": {},
   "outputs": [],
   "source": [
    "#3\n",
    "#datani tayyorlash. tozalash tushib qolgan qymatlarni todirish 2-qsm encoding object value larni numberic holatga otkazib olish(one got & label encoding larni korib chiqdik xozirgacha) 3-qism scaling 0.0~1.0 base ga otkazib olish"
   ]
  },
  {
   "cell_type": "code",
   "execution_count": 3,
   "id": "962e1aaa",
   "metadata": {},
   "outputs": [],
   "source": [
    "#4\n",
    "#mean orta arifmetik hisoblaydi va faqat numeric value lar bilangina ishlaydi\n",
    "#mode object bilan ham ishlayveradi. eng kop qaytarilgan value ni olishda ishlatiladi mode().[0] shunda 0 degani eng kop qaytarilgan value ni birinchisini ol degani. "
   ]
  },
  {
   "cell_type": "code",
   "execution_count": 4,
   "id": "0704e851",
   "metadata": {},
   "outputs": [],
   "source": [
    "#5\n",
    "#*nazorat qilinadigan ML turi va unda input va output beriladi. uni turlari regression and classification. farqi regressiion da output cheksiz boladi. classification da chekli\n",
    "#df['column_name'].value_counts() orqali tekshirib olinadi\n",
    "#classification da gender column faqat male female demak chekli. customer's remaining balance column korsak regression chunki balans doim ozgaruvchi va aynan 1ta chekli value emas"
   ]
  },
  {
   "cell_type": "code",
   "execution_count": null,
   "id": "c5235405",
   "metadata": {},
   "outputs": [],
   "source": [
    "#6\n",
    "#5ta mean mode median fixed toldirsh yoki tashlab yuborish dropna()\n",
    "#df['age'].fillna(df['age'].mean(),inplace=True)\n",
    "#df['Stock_Marktet'].fillna(df['Stock_Marktet'].mode()[0], inplace=True)\n",
    "#df['Purpose'].fillna(df['Purpose'].median(), inplace=True)\n",
    "#df['age'].fillna(150,inplace=True)\n",
    "#df['age].dropna(inplace=True)"
   ]
  },
  {
   "cell_type": "code",
   "execution_count": 7,
   "id": "857f61ee",
   "metadata": {},
   "outputs": [],
   "source": [
    "#7\n",
    "#data va uni qanchalik tozaligi. shunda model yaxshi organadi   "
   ]
  },
  {
   "cell_type": "code",
   "execution_count": 8,
   "id": "a09a81d0",
   "metadata": {},
   "outputs": [],
   "source": [
    "#8\n",
    "#median ortadasi value ni olish bilan toldiradi. "
   ]
  },
  {
   "cell_type": "code",
   "execution_count": 12,
   "id": "5fb1a9d7",
   "metadata": {},
   "outputs": [
    {
     "name": "stdout",
     "output_type": "stream",
     "text": [
      "yomon\n"
     ]
    }
   ],
   "source": [
    "berilgan_son=int(input('son kiriting:'))\n",
    "if berilgan_son %2 == 0:\n",
    "    print('yomon')\n",
    "else: print('')"
   ]
  },
  {
   "cell_type": "code",
   "execution_count": 13,
   "id": "440a471e",
   "metadata": {},
   "outputs": [
    {
     "name": "stdout",
     "output_type": "stream",
     "text": [
      "yaxshi\n"
     ]
    }
   ],
   "source": [
    "berilgan_son=int(input('son kiriting:'))\n",
    "if berilgan_son > 0:\n",
    "    print('yaxshi')\n",
    "elif berilgan_son < 0:\n",
    "    print('yomon')\n",
    "else: print('0ga teng')"
   ]
  },
  {
   "cell_type": "code",
   "execution_count": 14,
   "id": "42143ae3",
   "metadata": {},
   "outputs": [
    {
     "name": "stdout",
     "output_type": "stream",
     "text": [
      "yaxshi\n"
     ]
    }
   ],
   "source": [
    "berilgan_son=int(input('son kiriting:'))\n",
    "if berilgan_son %3 and berilgan_son%5 == 0:\n",
    "    print('yaxshi')\n",
    "else: print('yomon')"
   ]
  },
  {
   "cell_type": "code",
   "execution_count": 15,
   "id": "e4026ec6",
   "metadata": {},
   "outputs": [
    {
     "name": "stdout",
     "output_type": "stream",
     "text": [
      "yomon\n"
     ]
    }
   ],
   "source": [
    "berilgan_son=input('son kiriting:')\n",
    "if berilgan_son[0] == 'a':\n",
    "    print('yaxshi')\n",
    "else: print('yomon')\n"
   ]
  },
  {
   "cell_type": "code",
   "execution_count": 17,
   "id": "191a6cbc",
   "metadata": {},
   "outputs": [
    {
     "name": "stdout",
     "output_type": "stream",
     "text": [
      "yaxshi\n"
     ]
    }
   ],
   "source": [
    "berilgan_son=input('son kiriting:')\n",
    "if berilgan_son[-1] == 'a':\n",
    "    print('yaxshi')\n",
    "else: print('yomon')\n"
   ]
  },
  {
   "cell_type": "code",
   "execution_count": 18,
   "id": "1787e772",
   "metadata": {},
   "outputs": [
    {
     "name": "stdout",
     "output_type": "stream",
     "text": [
      "yaxshi\n"
     ]
    }
   ],
   "source": [
    "berilgan_son=input('son kiriting:')\n",
    "if berilgan_son[-1] == 'a' and berilgan_son[0] == 'b':\n",
    "    print('yaxshi')\n",
    "else: print('yomon')\n"
   ]
  },
  {
   "cell_type": "code",
   "execution_count": 20,
   "id": "0cd61723",
   "metadata": {},
   "outputs": [
    {
     "name": "stdout",
     "output_type": "stream",
     "text": [
      "True\n"
     ]
    }
   ],
   "source": [
    "berilgan_son=int(input('son kiriting:'))\n",
    "if berilgan_son > 0:\n",
    "    print(True)\n",
    "else: print(False)"
   ]
  },
  {
   "cell_type": "code",
   "execution_count": 21,
   "id": "440e6daa",
   "metadata": {},
   "outputs": [
    {
     "name": "stdout",
     "output_type": "stream",
     "text": [
      "True\n"
     ]
    }
   ],
   "source": [
    "berilgan_son=int(input('son kiriting:'))\n",
    "if berilgan_son < 0:\n",
    "    print(True)\n",
    "else: print(False)"
   ]
  },
  {
   "cell_type": "code",
   "execution_count": 22,
   "id": "2686ca36",
   "metadata": {},
   "outputs": [
    {
     "name": "stdout",
     "output_type": "stream",
     "text": [
      "True\n"
     ]
    }
   ],
   "source": [
    "berilgan_son=int(input('son kiriting:'))\n",
    "if berilgan_son == 0:\n",
    "    print(True)\n",
    "else: print(False)"
   ]
  },
  {
   "cell_type": "code",
   "execution_count": 23,
   "id": "27f4aa41",
   "metadata": {},
   "outputs": [
    {
     "name": "stdout",
     "output_type": "stream",
     "text": [
      "True\n"
     ]
    }
   ],
   "source": [
    "berilgan_son=int(input('son kiriting:'))\n",
    "if berilgan_son %2 == 0:\n",
    "    print(True)\n",
    "else: print(False)"
   ]
  },
  {
   "cell_type": "code",
   "execution_count": 24,
   "id": "77aaca13",
   "metadata": {},
   "outputs": [],
   "source": [
    "#ML"
   ]
  },
  {
   "cell_type": "code",
   "execution_count": 3,
   "id": "0b8bf227",
   "metadata": {},
   "outputs": [
    {
     "name": "stdout",
     "output_type": "stream",
     "text": [
      "<class 'pandas.core.frame.DataFrame'>\n",
      "RangeIndex: 40 entries, 0 to 39\n",
      "Data columns (total 24 columns):\n",
      " #   Column                             Non-Null Count  Dtype  \n",
      "---  ------                             --------------  -----  \n",
      " 0   gender                             40 non-null     object \n",
      " 1   age                                34 non-null     float64\n",
      " 2   Investment_Avenues                 40 non-null     object \n",
      " 3   Mutual_Funds                       40 non-null     int64  \n",
      " 4   Equity_Market                      40 non-null     int64  \n",
      " 5   Debentures                         40 non-null     int64  \n",
      " 6   Government_Bonds                   40 non-null     int64  \n",
      " 7   Fixed_Deposits                     40 non-null     int64  \n",
      " 8   PPF                                40 non-null     int64  \n",
      " 9   Gold                               40 non-null     int64  \n",
      " 10  Stock_Marktet                      35 non-null     object \n",
      " 11  Factor                             40 non-null     object \n",
      " 12  Objective                          40 non-null     object \n",
      " 13  Purpose                            39 non-null     object \n",
      " 14  Duration                           40 non-null     object \n",
      " 15  Invest_Monitor                     40 non-null     object \n",
      " 16  Expect                             40 non-null     object \n",
      " 17  Avenue                             40 non-null     object \n",
      " 18  What are your savings objectives?  40 non-null     object \n",
      " 19  Reason_Equity                      40 non-null     object \n",
      " 20  Reason_Mutual                      40 non-null     object \n",
      " 21  Reason_Bonds                       40 non-null     object \n",
      " 22  Reason_FD                          40 non-null     object \n",
      " 23  Source                             40 non-null     object \n",
      "dtypes: float64(1), int64(7), object(16)\n",
      "memory usage: 7.6+ KB\n"
     ]
    }
   ],
   "source": [
    "import pandas as pd\n",
    "df = pd.read_csv('Finance_data.csv')\n",
    "df.info()"
   ]
  },
  {
   "cell_type": "code",
   "execution_count": 4,
   "id": "c5abeba6",
   "metadata": {},
   "outputs": [
    {
     "name": "stderr",
     "output_type": "stream",
     "text": [
      "/var/folders/2s/kw_rwvhn10q4r6bv09y0my5r0000gn/T/ipykernel_2066/1492264711.py:1: FutureWarning: A value is trying to be set on a copy of a DataFrame or Series through chained assignment using an inplace method.\n",
      "The behavior will change in pandas 3.0. This inplace method will never work because the intermediate object on which we are setting values always behaves as a copy.\n",
      "\n",
      "For example, when doing 'df[col].method(value, inplace=True)', try using 'df.method({col: value}, inplace=True)' or df[col] = df[col].method(value) instead, to perform the operation inplace on the original object.\n",
      "\n",
      "\n",
      "  df['age'].fillna(df['age'].mean(),inplace=True)\n"
     ]
    }
   ],
   "source": [
    "df['age'].fillna(df['age'].mean(),inplace=True)"
   ]
  },
  {
   "cell_type": "code",
   "execution_count": 5,
   "id": "113ad438",
   "metadata": {},
   "outputs": [
    {
     "name": "stdout",
     "output_type": "stream",
     "text": [
      "<class 'pandas.core.frame.DataFrame'>\n",
      "RangeIndex: 40 entries, 0 to 39\n",
      "Data columns (total 24 columns):\n",
      " #   Column                             Non-Null Count  Dtype  \n",
      "---  ------                             --------------  -----  \n",
      " 0   gender                             40 non-null     object \n",
      " 1   age                                40 non-null     float64\n",
      " 2   Investment_Avenues                 40 non-null     object \n",
      " 3   Mutual_Funds                       40 non-null     int64  \n",
      " 4   Equity_Market                      40 non-null     int64  \n",
      " 5   Debentures                         40 non-null     int64  \n",
      " 6   Government_Bonds                   40 non-null     int64  \n",
      " 7   Fixed_Deposits                     40 non-null     int64  \n",
      " 8   PPF                                40 non-null     int64  \n",
      " 9   Gold                               40 non-null     int64  \n",
      " 10  Stock_Marktet                      35 non-null     object \n",
      " 11  Factor                             40 non-null     object \n",
      " 12  Objective                          40 non-null     object \n",
      " 13  Purpose                            39 non-null     object \n",
      " 14  Duration                           40 non-null     object \n",
      " 15  Invest_Monitor                     40 non-null     object \n",
      " 16  Expect                             40 non-null     object \n",
      " 17  Avenue                             40 non-null     object \n",
      " 18  What are your savings objectives?  40 non-null     object \n",
      " 19  Reason_Equity                      40 non-null     object \n",
      " 20  Reason_Mutual                      40 non-null     object \n",
      " 21  Reason_Bonds                       40 non-null     object \n",
      " 22  Reason_FD                          40 non-null     object \n",
      " 23  Source                             40 non-null     object \n",
      "dtypes: float64(1), int64(7), object(16)\n",
      "memory usage: 7.6+ KB\n"
     ]
    }
   ],
   "source": [
    "df.info()"
   ]
  },
  {
   "cell_type": "code",
   "execution_count": 6,
   "id": "74ee719b",
   "metadata": {},
   "outputs": [],
   "source": [
    "df['Stock_Marktet'].fillna(df['Stock_Marktet'].mode()[0], inplace=True)"
   ]
  },
  {
   "cell_type": "code",
   "execution_count": 7,
   "id": "71ae3c23",
   "metadata": {},
   "outputs": [
    {
     "name": "stdout",
     "output_type": "stream",
     "text": [
      "<class 'pandas.core.frame.DataFrame'>\n",
      "RangeIndex: 40 entries, 0 to 39\n",
      "Data columns (total 24 columns):\n",
      " #   Column                             Non-Null Count  Dtype  \n",
      "---  ------                             --------------  -----  \n",
      " 0   gender                             40 non-null     object \n",
      " 1   age                                40 non-null     float64\n",
      " 2   Investment_Avenues                 40 non-null     object \n",
      " 3   Mutual_Funds                       40 non-null     int64  \n",
      " 4   Equity_Market                      40 non-null     int64  \n",
      " 5   Debentures                         40 non-null     int64  \n",
      " 6   Government_Bonds                   40 non-null     int64  \n",
      " 7   Fixed_Deposits                     40 non-null     int64  \n",
      " 8   PPF                                40 non-null     int64  \n",
      " 9   Gold                               40 non-null     int64  \n",
      " 10  Stock_Marktet                      40 non-null     object \n",
      " 11  Factor                             40 non-null     object \n",
      " 12  Objective                          40 non-null     object \n",
      " 13  Purpose                            39 non-null     object \n",
      " 14  Duration                           40 non-null     object \n",
      " 15  Invest_Monitor                     40 non-null     object \n",
      " 16  Expect                             40 non-null     object \n",
      " 17  Avenue                             40 non-null     object \n",
      " 18  What are your savings objectives?  40 non-null     object \n",
      " 19  Reason_Equity                      40 non-null     object \n",
      " 20  Reason_Mutual                      40 non-null     object \n",
      " 21  Reason_Bonds                       40 non-null     object \n",
      " 22  Reason_FD                          40 non-null     object \n",
      " 23  Source                             40 non-null     object \n",
      "dtypes: float64(1), int64(7), object(16)\n",
      "memory usage: 7.6+ KB\n"
     ]
    }
   ],
   "source": [
    "df.info()"
   ]
  },
  {
   "cell_type": "code",
   "execution_count": 8,
   "id": "f6bbb7dc",
   "metadata": {},
   "outputs": [
    {
     "name": "stderr",
     "output_type": "stream",
     "text": [
      "/var/folders/2s/kw_rwvhn10q4r6bv09y0my5r0000gn/T/ipykernel_2066/3072041668.py:2: FutureWarning: A value is trying to be set on a copy of a DataFrame or Series through chained assignment using an inplace method.\n",
      "The behavior will change in pandas 3.0. This inplace method will never work because the intermediate object on which we are setting values always behaves as a copy.\n",
      "\n",
      "For example, when doing 'df[col].method(value, inplace=True)', try using 'df.method({col: value}, inplace=True)' or df[col] = df[col].method(value) instead, to perform the operation inplace on the original object.\n",
      "\n",
      "\n",
      "  df['age'].fillna(df['age'].median(), inplace=True)\n"
     ]
    }
   ],
   "source": [
    "df = pd.read_csv('Finance_data.csv')\n",
    "df['age'].fillna(df['age'].median(), inplace=True)"
   ]
  },
  {
   "cell_type": "code",
   "execution_count": 9,
   "id": "3ceb4fa7",
   "metadata": {},
   "outputs": [
    {
     "name": "stdout",
     "output_type": "stream",
     "text": [
      "<class 'pandas.core.frame.DataFrame'>\n",
      "RangeIndex: 40 entries, 0 to 39\n",
      "Data columns (total 24 columns):\n",
      " #   Column                             Non-Null Count  Dtype  \n",
      "---  ------                             --------------  -----  \n",
      " 0   gender                             40 non-null     object \n",
      " 1   age                                40 non-null     float64\n",
      " 2   Investment_Avenues                 40 non-null     object \n",
      " 3   Mutual_Funds                       40 non-null     int64  \n",
      " 4   Equity_Market                      40 non-null     int64  \n",
      " 5   Debentures                         40 non-null     int64  \n",
      " 6   Government_Bonds                   40 non-null     int64  \n",
      " 7   Fixed_Deposits                     40 non-null     int64  \n",
      " 8   PPF                                40 non-null     int64  \n",
      " 9   Gold                               40 non-null     int64  \n",
      " 10  Stock_Marktet                      35 non-null     object \n",
      " 11  Factor                             40 non-null     object \n",
      " 12  Objective                          40 non-null     object \n",
      " 13  Purpose                            39 non-null     object \n",
      " 14  Duration                           40 non-null     object \n",
      " 15  Invest_Monitor                     40 non-null     object \n",
      " 16  Expect                             40 non-null     object \n",
      " 17  Avenue                             40 non-null     object \n",
      " 18  What are your savings objectives?  40 non-null     object \n",
      " 19  Reason_Equity                      40 non-null     object \n",
      " 20  Reason_Mutual                      40 non-null     object \n",
      " 21  Reason_Bonds                       40 non-null     object \n",
      " 22  Reason_FD                          40 non-null     object \n",
      " 23  Source                             40 non-null     object \n",
      "dtypes: float64(1), int64(7), object(16)\n",
      "memory usage: 7.6+ KB\n"
     ]
    }
   ],
   "source": [
    "df.info()"
   ]
  },
  {
   "cell_type": "code",
   "execution_count": 10,
   "id": "f6eea467",
   "metadata": {},
   "outputs": [
    {
     "name": "stdout",
     "output_type": "stream",
     "text": [
      "<class 'pandas.core.frame.DataFrame'>\n",
      "RangeIndex: 40 entries, 0 to 39\n",
      "Data columns (total 24 columns):\n",
      " #   Column                             Non-Null Count  Dtype  \n",
      "---  ------                             --------------  -----  \n",
      " 0   gender                             40 non-null     object \n",
      " 1   age                                40 non-null     float64\n",
      " 2   Investment_Avenues                 40 non-null     object \n",
      " 3   Mutual_Funds                       40 non-null     int64  \n",
      " 4   Equity_Market                      40 non-null     int64  \n",
      " 5   Debentures                         40 non-null     int64  \n",
      " 6   Government_Bonds                   40 non-null     int64  \n",
      " 7   Fixed_Deposits                     40 non-null     int64  \n",
      " 8   PPF                                40 non-null     int64  \n",
      " 9   Gold                               40 non-null     int64  \n",
      " 10  Stock_Marktet                      35 non-null     object \n",
      " 11  Factor                             40 non-null     object \n",
      " 12  Objective                          40 non-null     object \n",
      " 13  Purpose                            40 non-null     object \n",
      " 14  Duration                           40 non-null     object \n",
      " 15  Invest_Monitor                     40 non-null     object \n",
      " 16  Expect                             40 non-null     object \n",
      " 17  Avenue                             40 non-null     object \n",
      " 18  What are your savings objectives?  40 non-null     object \n",
      " 19  Reason_Equity                      40 non-null     object \n",
      " 20  Reason_Mutual                      40 non-null     object \n",
      " 21  Reason_Bonds                       40 non-null     object \n",
      " 22  Reason_FD                          40 non-null     object \n",
      " 23  Source                             40 non-null     object \n",
      "dtypes: float64(1), int64(7), object(16)\n",
      "memory usage: 7.6+ KB\n"
     ]
    }
   ],
   "source": [
    "df['Purpose'].fillna('aaaaa', inplace=True)\n",
    "df.info()"
   ]
  },
  {
   "cell_type": "code",
   "execution_count": 11,
   "id": "f17b366a",
   "metadata": {},
   "outputs": [],
   "source": [
    "df['age'].dropna(inplace=True)"
   ]
  },
  {
   "cell_type": "code",
   "execution_count": 12,
   "id": "87a3e531",
   "metadata": {},
   "outputs": [
    {
     "name": "stdout",
     "output_type": "stream",
     "text": [
      "<class 'pandas.core.frame.DataFrame'>\n",
      "RangeIndex: 40 entries, 0 to 39\n",
      "Data columns (total 24 columns):\n",
      " #   Column                             Non-Null Count  Dtype  \n",
      "---  ------                             --------------  -----  \n",
      " 0   gender                             40 non-null     object \n",
      " 1   age                                40 non-null     float64\n",
      " 2   Investment_Avenues                 40 non-null     object \n",
      " 3   Mutual_Funds                       40 non-null     int64  \n",
      " 4   Equity_Market                      40 non-null     int64  \n",
      " 5   Debentures                         40 non-null     int64  \n",
      " 6   Government_Bonds                   40 non-null     int64  \n",
      " 7   Fixed_Deposits                     40 non-null     int64  \n",
      " 8   PPF                                40 non-null     int64  \n",
      " 9   Gold                               40 non-null     int64  \n",
      " 10  Stock_Marktet                      35 non-null     object \n",
      " 11  Factor                             40 non-null     object \n",
      " 12  Objective                          40 non-null     object \n",
      " 13  Purpose                            40 non-null     object \n",
      " 14  Duration                           40 non-null     object \n",
      " 15  Invest_Monitor                     40 non-null     object \n",
      " 16  Expect                             40 non-null     object \n",
      " 17  Avenue                             40 non-null     object \n",
      " 18  What are your savings objectives?  40 non-null     object \n",
      " 19  Reason_Equity                      40 non-null     object \n",
      " 20  Reason_Mutual                      40 non-null     object \n",
      " 21  Reason_Bonds                       40 non-null     object \n",
      " 22  Reason_FD                          40 non-null     object \n",
      " 23  Source                             40 non-null     object \n",
      "dtypes: float64(1), int64(7), object(16)\n",
      "memory usage: 7.6+ KB\n"
     ]
    }
   ],
   "source": [
    "df.info()"
   ]
  },
  {
   "cell_type": "code",
   "execution_count": 14,
   "id": "a6d1bd2e",
   "metadata": {},
   "outputs": [
    {
     "data": {
      "text/plain": [
       "0       Yes\n",
       "1        No\n",
       "2       Yes\n",
       "3       Yes\n",
       "4        No\n",
       "5        No\n",
       "6       Yes\n",
       "7       Yes\n",
       "8       Yes\n",
       "9       Yes\n",
       "10      Yes\n",
       "11      Yes\n",
       "12       No\n",
       "13      Yes\n",
       "14      Yes\n",
       "15      Yes\n",
       "16      Yes\n",
       "17      Yes\n",
       "18      Yes\n",
       "19      Yes\n",
       "20      Yes\n",
       "21      Yes\n",
       "22      Yes\n",
       "23    salom\n",
       "24      Yes\n",
       "25      Yes\n",
       "26      Yes\n",
       "27      Yes\n",
       "28    salom\n",
       "29    salom\n",
       "30    salom\n",
       "31    salom\n",
       "32      Yes\n",
       "33      Yes\n",
       "34      Yes\n",
       "35      Yes\n",
       "36      Yes\n",
       "37      Yes\n",
       "38      Yes\n",
       "39      Yes\n",
       "Name: Stock_Marktet, dtype: object"
      ]
     },
     "execution_count": 14,
     "metadata": {},
     "output_type": "execute_result"
    }
   ],
   "source": [
    "#qatorlar boyicha toldirish\n",
    "df['Stock_Marktet'].fillna('salom', axis=0)"
   ]
  },
  {
   "cell_type": "code",
   "execution_count": 15,
   "id": "9292c745",
   "metadata": {},
   "outputs": [],
   "source": [
    "#qolgan savollar qaytarilgan ekan"
   ]
  },
  {
   "cell_type": "code",
   "execution_count": null,
   "id": "8eed76bb",
   "metadata": {},
   "outputs": [],
   "source": []
  }
 ],
 "metadata": {
  "kernelspec": {
   "display_name": "Python 3",
   "language": "python",
   "name": "python3"
  },
  "language_info": {
   "codemirror_mode": {
    "name": "ipython",
    "version": 3
   },
   "file_extension": ".py",
   "mimetype": "text/x-python",
   "name": "python",
   "nbconvert_exporter": "python",
   "pygments_lexer": "ipython3",
   "version": "3.13.7"
  }
 },
 "nbformat": 4,
 "nbformat_minor": 5
}
