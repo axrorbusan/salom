{
 "cells": [
  {
   "cell_type": "code",
   "execution_count": 6,
   "id": "8c026951",
   "metadata": {},
   "outputs": [
    {
     "name": "stdout",
     "output_type": "stream",
     "text": [
      "+\n"
     ]
    }
   ],
   "source": [
    "# Beilgan sonni musnat  yoki manfiy ekanligini if yordamida aniqlang\n",
    "a=float(input('son kiritingche:'))\n",
    "if a==0:\n",
    "    print('0ga teng')\n",
    "elif a>0:\n",
    "    print('+')\n",
    "else:\n",
    "    print('-')"
   ]
  },
  {
   "cell_type": "code",
   "execution_count": 9,
   "id": "5d6da7ef",
   "metadata": {},
   "outputs": [
    {
     "name": "stdout",
     "output_type": "stream",
     "text": [
      "toq\n"
     ]
    }
   ],
   "source": [
    "#Berilgan sonni juft yoki toq ekanligini aniqlang\n",
    "a=float(input('son kiritingche:'))\n",
    "if a%2==0:\n",
    "    print('juft')\n",
    "elif a%2==1:\n",
    "    print('toq')\n",
    "else: print('integer emas')"
   ]
  },
  {
   "cell_type": "code",
   "execution_count": 12,
   "id": "003752b4",
   "metadata": {},
   "outputs": [
    {
     "name": "stdout",
     "output_type": "stream",
     "text": [
      "s m\n",
      "a o\n"
     ]
    }
   ],
   "source": [
    "# Berigan so'zni boshi va oxirgi xarfini toping\n",
    "s=str(input('nimadir yozib kiriting:'))\n",
    "print(s[0], s[-1])\n",
    "\n",
    "# Berigan so'zni boshidan 2 chi va oxiridan ikkinchi xarfni toping\n",
    "print(s[1], s[-2])\n"
   ]
  },
  {
   "cell_type": "code",
   "execution_count": null,
   "id": "d082096a",
   "metadata": {},
   "outputs": [],
   "source": []
  }
 ],
 "metadata": {
  "kernelspec": {
   "display_name": "Python 3",
   "language": "python",
   "name": "python3"
  },
  "language_info": {
   "codemirror_mode": {
    "name": "ipython",
    "version": 3
   },
   "file_extension": ".py",
   "mimetype": "text/x-python",
   "name": "python",
   "nbconvert_exporter": "python",
   "pygments_lexer": "ipython3",
   "version": "3.13.7"
  }
 },
 "nbformat": 4,
 "nbformat_minor": 5
}
