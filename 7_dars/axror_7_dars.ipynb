{
 "cells": [
  {
   "cell_type": "code",
   "execution_count": 2,
   "id": "2200f37a",
   "metadata": {},
   "outputs": [
    {
     "name": "stdout",
     "output_type": "stream",
     "text": [
      "<class 'pandas.core.frame.DataFrame'>\n",
      "RangeIndex: 40 entries, 0 to 39\n",
      "Data columns (total 24 columns):\n",
      " #   Column                             Non-Null Count  Dtype  \n",
      "---  ------                             --------------  -----  \n",
      " 0   gender                             40 non-null     object \n",
      " 1   age                                31 non-null     float64\n",
      " 2   Investment_Avenues                 40 non-null     object \n",
      " 3   Mutual_Funds                       39 non-null     float64\n",
      " 4   Equity_Market                      39 non-null     float64\n",
      " 5   Debentures                         39 non-null     float64\n",
      " 6   Government_Bonds                   40 non-null     int64  \n",
      " 7   Fixed_Deposits                     40 non-null     int64  \n",
      " 8   PPF                                40 non-null     int64  \n",
      " 9   Gold                               40 non-null     int64  \n",
      " 10  Stock_Marktet                      34 non-null     object \n",
      " 11  Factor                             37 non-null     object \n",
      " 12  Objective                          39 non-null     object \n",
      " 13  Purpose                            37 non-null     object \n",
      " 14  Duration                           39 non-null     object \n",
      " 15  Invest_Monitor                     37 non-null     object \n",
      " 16  Expect                             39 non-null     object \n",
      " 17  Avenue                             40 non-null     object \n",
      " 18  What are your savings objectives?  40 non-null     object \n",
      " 19  Reason_Equity                      40 non-null     object \n",
      " 20  Reason_Mutual                      40 non-null     object \n",
      " 21  Reason_Bonds                       40 non-null     object \n",
      " 22  Reason_FD                          40 non-null     object \n",
      " 23  Source                             40 non-null     object \n",
      "dtypes: float64(4), int64(4), object(16)\n",
      "memory usage: 7.6+ KB\n"
     ]
    }
   ],
   "source": [
    "import pandas as pd\n",
    "df = pd.read_csv('Finance_data.csv')\n",
    "df.info()"
   ]
  },
  {
   "cell_type": "code",
   "execution_count": 18,
   "id": "b61dcaf6",
   "metadata": {},
   "outputs": [
    {
     "data": {
      "text/plain": [
       "gender                               0\n",
       "age                                  9\n",
       "Investment_Avenues                   0\n",
       "Mutual_Funds                         1\n",
       "Equity_Market                        1\n",
       "Debentures                           1\n",
       "Government_Bonds                     0\n",
       "Fixed_Deposits                       0\n",
       "PPF                                  0\n",
       "Gold                                 0\n",
       "Stock_Marktet                        6\n",
       "Factor                               3\n",
       "Objective                            1\n",
       "Purpose                              3\n",
       "Duration                             1\n",
       "Invest_Monitor                       3\n",
       "Expect                               1\n",
       "Avenue                               0\n",
       "What are your savings objectives?    0\n",
       "Reason_Equity                        0\n",
       "Reason_Mutual                        0\n",
       "Reason_Bonds                         0\n",
       "Reason_FD                            0\n",
       "Source                               0\n",
       "dtype: int64"
      ]
     },
     "execution_count": 18,
     "metadata": {},
     "output_type": "execute_result"
    }
   ],
   "source": [
    "df.isnull().sum()"
   ]
  },
  {
   "cell_type": "code",
   "execution_count": 19,
   "id": "fe009428",
   "metadata": {},
   "outputs": [
    {
     "name": "stderr",
     "output_type": "stream",
     "text": [
      "/var/folders/2s/kw_rwvhn10q4r6bv09y0my5r0000gn/T/ipykernel_2515/1644704826.py:2: FutureWarning: A value is trying to be set on a copy of a DataFrame or Series through chained assignment using an inplace method.\n",
      "The behavior will change in pandas 3.0. This inplace method will never work because the intermediate object on which we are setting values always behaves as a copy.\n",
      "\n",
      "For example, when doing 'df[col].method(value, inplace=True)', try using 'df.method({col: value}, inplace=True)' or df[col] = df[col].method(value) instead, to perform the operation inplace on the original object.\n",
      "\n",
      "\n",
      "  df['age'].fillna(df['age'].mean(), inplace=True)\n",
      "/var/folders/2s/kw_rwvhn10q4r6bv09y0my5r0000gn/T/ipykernel_2515/1644704826.py:3: FutureWarning: A value is trying to be set on a copy of a DataFrame or Series through chained assignment using an inplace method.\n",
      "The behavior will change in pandas 3.0. This inplace method will never work because the intermediate object on which we are setting values always behaves as a copy.\n",
      "\n",
      "For example, when doing 'df[col].method(value, inplace=True)', try using 'df.method({col: value}, inplace=True)' or df[col] = df[col].method(value) instead, to perform the operation inplace on the original object.\n",
      "\n",
      "\n",
      "  df['Stock_Marktet'].fillna(df['Stock_Marktet'].mode(), inplace=True)\n",
      "/var/folders/2s/kw_rwvhn10q4r6bv09y0my5r0000gn/T/ipykernel_2515/1644704826.py:4: FutureWarning: A value is trying to be set on a copy of a DataFrame or Series through chained assignment using an inplace method.\n",
      "The behavior will change in pandas 3.0. This inplace method will never work because the intermediate object on which we are setting values always behaves as a copy.\n",
      "\n",
      "For example, when doing 'df[col].method(value, inplace=True)', try using 'df.method({col: value}, inplace=True)' or df[col] = df[col].method(value) instead, to perform the operation inplace on the original object.\n",
      "\n",
      "\n",
      "  df['Mutual_Funds'].fillna(df['Mutual_Funds'].median(), inplace=True)\n"
     ]
    },
    {
     "data": {
      "text/plain": [
       "0     20%-30%\n",
       "1     20%-30%\n",
       "2     20%-30%\n",
       "3     10%-20%\n",
       "4     20%-30%\n",
       "5     30%-40%\n",
       "6     20%-30%\n",
       "7     20%-30%\n",
       "8     20%-30%\n",
       "9     30%-40%\n",
       "10    20%-30%\n",
       "11    20%-30%\n",
       "12    20%-30%\n",
       "13    20%-30%\n",
       "14    20%-30%\n",
       "15    20%-30%\n",
       "16    20%-30%\n",
       "17    20%-30%\n",
       "18    20%-30%\n",
       "19    20%-30%\n",
       "20    20%-30%\n",
       "21    20%-30%\n",
       "22    20%-30%\n",
       "24    30%-40%\n",
       "25    20%-30%\n",
       "26    20%-30%\n",
       "27    20%-30%\n",
       "28    20%-30%\n",
       "29    10%-20%\n",
       "30    10%-20%\n",
       "31    20%-30%\n",
       "32    30%-40%\n",
       "33    20%-30%\n",
       "34    20%-30%\n",
       "35    20%-30%\n",
       "36    20%-30%\n",
       "37    30%-40%\n",
       "38    20%-30%\n",
       "39    20%-30%\n",
       "Name: Expect, dtype: object"
      ]
     },
     "execution_count": 19,
     "metadata": {},
     "output_type": "execute_result"
    }
   ],
   "source": [
    "#5ta usulda\n",
    "df['age'].fillna(df['age'].mean(), inplace=True)\n",
    "df['Stock_Marktet'].fillna(df['Stock_Marktet'].mode(), inplace=True)\n",
    "df['Mutual_Funds'].fillna(df['Mutual_Funds'].median(), inplace=True)\n",
    "df['Gold'].fillna(100, axis=0)\n",
    "df['Expect'].dropna()"
   ]
  },
  {
   "cell_type": "code",
   "execution_count": 20,
   "id": "c294dc84",
   "metadata": {},
   "outputs": [
    {
     "data": {
      "text/plain": [
       "gender                               0\n",
       "age                                  0\n",
       "Investment_Avenues                   0\n",
       "Mutual_Funds                         0\n",
       "Equity_Market                        1\n",
       "Debentures                           1\n",
       "Government_Bonds                     0\n",
       "Fixed_Deposits                       0\n",
       "PPF                                  0\n",
       "Gold                                 0\n",
       "Stock_Marktet                        6\n",
       "Factor                               3\n",
       "Objective                            1\n",
       "Purpose                              3\n",
       "Duration                             1\n",
       "Invest_Monitor                       3\n",
       "Expect                               1\n",
       "Avenue                               0\n",
       "What are your savings objectives?    0\n",
       "Reason_Equity                        0\n",
       "Reason_Mutual                        0\n",
       "Reason_Bonds                         0\n",
       "Reason_FD                            0\n",
       "Source                               0\n",
       "dtype: int64"
      ]
     },
     "execution_count": 20,
     "metadata": {},
     "output_type": "execute_result"
    }
   ],
   "source": [
    "df.isnull().sum()"
   ]
  },
  {
   "cell_type": "code",
   "execution_count": 21,
   "id": "d89d1899",
   "metadata": {},
   "outputs": [
    {
     "name": "stdout",
     "output_type": "stream",
     "text": [
      "<class 'pandas.core.frame.DataFrame'>\n",
      "RangeIndex: 40 entries, 0 to 39\n",
      "Data columns (total 24 columns):\n",
      " #   Column                             Non-Null Count  Dtype  \n",
      "---  ------                             --------------  -----  \n",
      " 0   gender                             40 non-null     object \n",
      " 1   age                                31 non-null     float64\n",
      " 2   Investment_Avenues                 40 non-null     object \n",
      " 3   Mutual_Funds                       39 non-null     float64\n",
      " 4   Equity_Market                      39 non-null     float64\n",
      " 5   Debentures                         39 non-null     float64\n",
      " 6   Government_Bonds                   40 non-null     int64  \n",
      " 7   Fixed_Deposits                     40 non-null     int64  \n",
      " 8   PPF                                40 non-null     int64  \n",
      " 9   Gold                               40 non-null     int64  \n",
      " 10  Stock_Marktet                      34 non-null     object \n",
      " 11  Factor                             37 non-null     object \n",
      " 12  Objective                          39 non-null     object \n",
      " 13  Purpose                            37 non-null     object \n",
      " 14  Duration                           39 non-null     object \n",
      " 15  Invest_Monitor                     37 non-null     object \n",
      " 16  Expect                             39 non-null     object \n",
      " 17  Avenue                             40 non-null     object \n",
      " 18  What are your savings objectives?  40 non-null     object \n",
      " 19  Reason_Equity                      40 non-null     object \n",
      " 20  Reason_Mutual                      40 non-null     object \n",
      " 21  Reason_Bonds                       40 non-null     object \n",
      " 22  Reason_FD                          40 non-null     object \n",
      " 23  Source                             40 non-null     object \n",
      "dtypes: float64(4), int64(4), object(16)\n",
      "memory usage: 7.6+ KB\n"
     ]
    }
   ],
   "source": [
    "#for bilan\n",
    "df = pd.read_csv('Finance_data.csv')\n",
    "df.info()"
   ]
  },
  {
   "cell_type": "code",
   "execution_count": 22,
   "id": "0b2d1b7c",
   "metadata": {},
   "outputs": [
    {
     "name": "stdout",
     "output_type": "stream",
     "text": [
      "<class 'pandas.core.frame.DataFrame'>\n",
      "RangeIndex: 40 entries, 0 to 39\n",
      "Data columns (total 24 columns):\n",
      " #   Column                             Non-Null Count  Dtype  \n",
      "---  ------                             --------------  -----  \n",
      " 0   gender                             40 non-null     object \n",
      " 1   age                                40 non-null     float64\n",
      " 2   Investment_Avenues                 40 non-null     object \n",
      " 3   Mutual_Funds                       40 non-null     float64\n",
      " 4   Equity_Market                      40 non-null     float64\n",
      " 5   Debentures                         40 non-null     float64\n",
      " 6   Government_Bonds                   40 non-null     int64  \n",
      " 7   Fixed_Deposits                     40 non-null     int64  \n",
      " 8   PPF                                40 non-null     int64  \n",
      " 9   Gold                               40 non-null     int64  \n",
      " 10  Stock_Marktet                      40 non-null     object \n",
      " 11  Factor                             40 non-null     object \n",
      " 12  Objective                          40 non-null     object \n",
      " 13  Purpose                            40 non-null     object \n",
      " 14  Duration                           40 non-null     object \n",
      " 15  Invest_Monitor                     40 non-null     object \n",
      " 16  Expect                             40 non-null     object \n",
      " 17  Avenue                             40 non-null     object \n",
      " 18  What are your savings objectives?  40 non-null     object \n",
      " 19  Reason_Equity                      40 non-null     object \n",
      " 20  Reason_Mutual                      40 non-null     object \n",
      " 21  Reason_Bonds                       40 non-null     object \n",
      " 22  Reason_FD                          40 non-null     object \n",
      " 23  Source                             40 non-null     object \n",
      "dtypes: float64(4), int64(4), object(16)\n",
      "memory usage: 7.6+ KB\n"
     ]
    },
    {
     "name": "stderr",
     "output_type": "stream",
     "text": [
      "/var/folders/2s/kw_rwvhn10q4r6bv09y0my5r0000gn/T/ipykernel_2515/2584248640.py:5: FutureWarning: A value is trying to be set on a copy of a DataFrame or Series through chained assignment using an inplace method.\n",
      "The behavior will change in pandas 3.0. This inplace method will never work because the intermediate object on which we are setting values always behaves as a copy.\n",
      "\n",
      "For example, when doing 'df[col].method(value, inplace=True)', try using 'df.method({col: value}, inplace=True)' or df[col] = df[col].method(value) instead, to perform the operation inplace on the original object.\n",
      "\n",
      "\n",
      "  else: df[item].fillna(df[item].mean(), inplace=True)\n",
      "/var/folders/2s/kw_rwvhn10q4r6bv09y0my5r0000gn/T/ipykernel_2515/2584248640.py:4: FutureWarning: A value is trying to be set on a copy of a DataFrame or Series through chained assignment using an inplace method.\n",
      "The behavior will change in pandas 3.0. This inplace method will never work because the intermediate object on which we are setting values always behaves as a copy.\n",
      "\n",
      "For example, when doing 'df[col].method(value, inplace=True)', try using 'df.method({col: value}, inplace=True)' or df[col] = df[col].method(value) instead, to perform the operation inplace on the original object.\n",
      "\n",
      "\n",
      "  df[item].fillna(df[item].mode()[0], inplace=True)\n"
     ]
    }
   ],
   "source": [
    "for item in df.columns:\n",
    "    if df[item].isnull().any():\n",
    "        if df[item].dtype == 'object':\n",
    "            df[item].fillna(df[item].mode()[0], inplace=True)\n",
    "        else: df[item].fillna(df[item].mean(), inplace=True)\n",
    "df.info()"
   ]
  },
  {
   "cell_type": "code",
   "execution_count": 23,
   "id": "3c22abc2",
   "metadata": {},
   "outputs": [],
   "source": [
    "#for loop uchun 10ta misol"
   ]
  },
  {
   "cell_type": "code",
   "execution_count": 24,
   "id": "751a1c8f",
   "metadata": {},
   "outputs": [
    {
     "name": "stdout",
     "output_type": "stream",
     "text": [
      "breakfast\n",
      "lunch\n",
      "dinner\n",
      "dessert\n",
      "brunch\n"
     ]
    }
   ],
   "source": [
    "meals = ['breakfast', 'lunch', 'dinner', 'dessert', 'brunch']\n",
    "for i in range(5):\n",
    "    print(meals[i])"
   ]
  },
  {
   "cell_type": "code",
   "execution_count": 25,
   "id": "04b1e912",
   "metadata": {},
   "outputs": [
    {
     "name": "stdout",
     "output_type": "stream",
     "text": [
      "1,6,11,16,21,26,31,36,41,46,51,56,61,66,71,76,81,86,91,96,"
     ]
    }
   ],
   "source": [
    "for i in range(1,100, 5):\n",
    "    print(i, end=',')"
   ]
  },
  {
   "cell_type": "code",
   "execution_count": 30,
   "id": "8f7bf7e0",
   "metadata": {},
   "outputs": [
    {
     "name": "stdout",
     "output_type": "stream",
     "text": [
      "sum is 110\n"
     ]
    }
   ],
   "source": [
    "total=0\n",
    "for i in range(1,111):\n",
    "    total+=1\n",
    "print(\"sum is\", total)\n"
   ]
  },
  {
   "cell_type": "code",
   "execution_count": 35,
   "id": "cbbee60a",
   "metadata": {},
   "outputs": [
    {
     "name": "stdout",
     "output_type": "stream",
     "text": [
      "h+e+l+l+o+w+r+o+n+g+"
     ]
    }
   ],
   "source": [
    "word = 'hellowrong'\n",
    "for charry in word:\n",
    "    print(charry, end='+')"
   ]
  },
  {
   "cell_type": "code",
   "execution_count": 38,
   "id": "fb6ae5b7",
   "metadata": {},
   "outputs": [
    {
     "name": "stdout",
     "output_type": "stream",
     "text": [
      "20,40,60,80,100,"
     ]
    }
   ],
   "source": [
    "numbers = [1,2,3,4,5]\n",
    "for i in numbers:\n",
    "    print(i*20, end=',')"
   ]
  },
  {
   "cell_type": "code",
   "execution_count": 39,
   "id": "511fec1d",
   "metadata": {},
   "outputs": [
    {
     "name": "stdout",
     "output_type": "stream",
     "text": [
      "Mercury Venus Earth Mars Jupiter Saturn Uranus Neptune "
     ]
    }
   ],
   "source": [
    "planets = ['Mercury', 'Venus', 'Earth', 'Mars', 'Jupiter', 'Saturn', 'Uranus', 'Neptune']\n",
    "for planet in planets:\n",
    "    print(planet, end=' ')"
   ]
  },
  {
   "cell_type": "code",
   "execution_count": 40,
   "id": "969514eb",
   "metadata": {},
   "outputs": [
    {
     "name": "stdout",
     "output_type": "stream",
     "text": [
      "2 is even\n",
      "4 is even\n",
      "6 is even\n",
      "8 is even\n",
      "10 is even\n"
     ]
    }
   ],
   "source": [
    "for i in range(1, 11):\n",
    "    if i % 2 == 0:\n",
    "        print(i, \"is even\")"
   ]
  },
  {
   "cell_type": "code",
   "execution_count": 41,
   "id": "8972ac1a",
   "metadata": {},
   "outputs": [
    {
     "name": "stdout",
     "output_type": "stream",
     "text": [
      "1 is odd\n",
      "3 is odd\n",
      "5 is odd\n",
      "7 is odd\n",
      "9 is odd\n"
     ]
    }
   ],
   "source": [
    "for i in range(1, 11):\n",
    "    if i % 2 == 1:\n",
    "        print(i, \"is odd\")"
   ]
  },
  {
   "cell_type": "code",
   "execution_count": 46,
   "id": "8d58952c",
   "metadata": {},
   "outputs": [
    {
     "name": "stdout",
     "output_type": "stream",
     "text": [
      "1 * 1 = 1\n",
      "1 * 2 = 2\n",
      "1 * 3 = 3\n",
      "1 * 4 = 4\n",
      "1 * 5 = 5\n",
      "1 * 6 = 6\n",
      "1 * 7 = 7\n",
      "1 * 8 = 8\n",
      "1 * 9 = 9\n",
      "1 * 10 = 10\n",
      "2 * 1 = 2\n",
      "2 * 2 = 4\n",
      "2 * 3 = 6\n",
      "2 * 4 = 8\n",
      "2 * 5 = 10\n",
      "2 * 6 = 12\n",
      "2 * 7 = 14\n",
      "2 * 8 = 16\n",
      "2 * 9 = 18\n",
      "2 * 10 = 20\n"
     ]
    }
   ],
   "source": [
    "for i in range(1, 3):\n",
    "    for j in range(1, 11):\n",
    "        print(i, \"*\", j, \"=\", i*j)"
   ]
  },
  {
   "cell_type": "code",
   "execution_count": null,
   "id": "8191f3d2",
   "metadata": {},
   "outputs": [
    {
     "name": "stdout",
     "output_type": "stream",
     "text": [
      "number of vowels: 13\n"
     ]
    }
   ],
   "source": [
    "text = 'sbgnhusbgh wegrberBGHgb w gbeGAIUrwgibwer wergb iuwebrgw'\n",
    "vowels = 'aeiouAEIOU'\n",
    "count=0\n",
    "\n",
    "for charry in text:\n",
    "    if charry in vowels:\n",
    "        count+=1\n",
    "print(\"number of vowels:\", count)\n"
   ]
  },
  {
   "cell_type": "code",
   "execution_count": 4,
   "id": "ce20621d",
   "metadata": {},
   "outputs": [
    {
     "name": "stdout",
     "output_type": "stream",
     "text": [
      "<class 'pandas.core.frame.DataFrame'>\n",
      "RangeIndex: 1338 entries, 0 to 1337\n",
      "Data columns (total 7 columns):\n",
      " #   Column    Non-Null Count  Dtype  \n",
      "---  ------    --------------  -----  \n",
      " 0   age       1338 non-null   int64  \n",
      " 1   sex       1338 non-null   object \n",
      " 2   bmi       1338 non-null   float64\n",
      " 3   children  1338 non-null   int64  \n",
      " 4   smoker    1338 non-null   object \n",
      " 5   region    1338 non-null   object \n",
      " 6   charges   1338 non-null   float64\n",
      "dtypes: float64(2), int64(2), object(3)\n",
      "memory usage: 73.3+ KB\n"
     ]
    }
   ],
   "source": [
    "#encoding\n",
    "from sklearn.preprocessing import LabelEncoder\n",
    "encoder = LabelEncoder()\n",
    "df = pd.read_csv('insurance.csv')\n",
    "df.info()"
   ]
  },
  {
   "cell_type": "code",
   "execution_count": 5,
   "id": "7213a511",
   "metadata": {},
   "outputs": [
    {
     "data": {
      "text/html": [
       "<div>\n",
       "<style scoped>\n",
       "    .dataframe tbody tr th:only-of-type {\n",
       "        vertical-align: middle;\n",
       "    }\n",
       "\n",
       "    .dataframe tbody tr th {\n",
       "        vertical-align: top;\n",
       "    }\n",
       "\n",
       "    .dataframe thead th {\n",
       "        text-align: right;\n",
       "    }\n",
       "</style>\n",
       "<table border=\"1\" class=\"dataframe\">\n",
       "  <thead>\n",
       "    <tr style=\"text-align: right;\">\n",
       "      <th></th>\n",
       "      <th>age</th>\n",
       "      <th>sex</th>\n",
       "      <th>bmi</th>\n",
       "      <th>children</th>\n",
       "      <th>smoker</th>\n",
       "      <th>region</th>\n",
       "      <th>charges</th>\n",
       "    </tr>\n",
       "  </thead>\n",
       "  <tbody>\n",
       "    <tr>\n",
       "      <th>0</th>\n",
       "      <td>19</td>\n",
       "      <td>female</td>\n",
       "      <td>27.900</td>\n",
       "      <td>0</td>\n",
       "      <td>yes</td>\n",
       "      <td>southwest</td>\n",
       "      <td>16884.92400</td>\n",
       "    </tr>\n",
       "    <tr>\n",
       "      <th>1</th>\n",
       "      <td>18</td>\n",
       "      <td>male</td>\n",
       "      <td>33.770</td>\n",
       "      <td>1</td>\n",
       "      <td>no</td>\n",
       "      <td>southeast</td>\n",
       "      <td>1725.55230</td>\n",
       "    </tr>\n",
       "    <tr>\n",
       "      <th>2</th>\n",
       "      <td>28</td>\n",
       "      <td>male</td>\n",
       "      <td>33.000</td>\n",
       "      <td>3</td>\n",
       "      <td>no</td>\n",
       "      <td>southeast</td>\n",
       "      <td>4449.46200</td>\n",
       "    </tr>\n",
       "    <tr>\n",
       "      <th>3</th>\n",
       "      <td>33</td>\n",
       "      <td>male</td>\n",
       "      <td>22.705</td>\n",
       "      <td>0</td>\n",
       "      <td>no</td>\n",
       "      <td>northwest</td>\n",
       "      <td>21984.47061</td>\n",
       "    </tr>\n",
       "    <tr>\n",
       "      <th>4</th>\n",
       "      <td>32</td>\n",
       "      <td>male</td>\n",
       "      <td>28.880</td>\n",
       "      <td>0</td>\n",
       "      <td>no</td>\n",
       "      <td>northwest</td>\n",
       "      <td>3866.85520</td>\n",
       "    </tr>\n",
       "  </tbody>\n",
       "</table>\n",
       "</div>"
      ],
      "text/plain": [
       "   age     sex     bmi  children smoker     region      charges\n",
       "0   19  female  27.900         0    yes  southwest  16884.92400\n",
       "1   18    male  33.770         1     no  southeast   1725.55230\n",
       "2   28    male  33.000         3     no  southeast   4449.46200\n",
       "3   33    male  22.705         0     no  northwest  21984.47061\n",
       "4   32    male  28.880         0     no  northwest   3866.85520"
      ]
     },
     "execution_count": 5,
     "metadata": {},
     "output_type": "execute_result"
    }
   ],
   "source": [
    "df.head()"
   ]
  },
  {
   "cell_type": "code",
   "execution_count": 6,
   "id": "0389cfad",
   "metadata": {},
   "outputs": [
    {
     "data": {
      "text/plain": [
       "age           47\n",
       "sex            2\n",
       "bmi          548\n",
       "children       6\n",
       "smoker         2\n",
       "region         4\n",
       "charges     1337\n",
       "dtype: int64"
      ]
     },
     "execution_count": 6,
     "metadata": {},
     "output_type": "execute_result"
    }
   ],
   "source": [
    "df.nunique()"
   ]
  },
  {
   "cell_type": "code",
   "execution_count": 7,
   "id": "efed0ace",
   "metadata": {},
   "outputs": [
    {
     "name": "stdout",
     "output_type": "stream",
     "text": [
      "<class 'pandas.core.frame.DataFrame'>\n",
      "RangeIndex: 1338 entries, 0 to 1337\n",
      "Data columns (total 7 columns):\n",
      " #   Column    Non-Null Count  Dtype  \n",
      "---  ------    --------------  -----  \n",
      " 0   age       1338 non-null   int64  \n",
      " 1   sex       1338 non-null   object \n",
      " 2   bmi       1338 non-null   float64\n",
      " 3   children  1338 non-null   int64  \n",
      " 4   smoker    1338 non-null   object \n",
      " 5   region    1338 non-null   object \n",
      " 6   charges   1338 non-null   float64\n",
      "dtypes: float64(2), int64(2), object(3)\n",
      "memory usage: 73.3+ KB\n"
     ]
    }
   ],
   "source": [
    "df['age']=encoder.fit_transform(df['age'])\n",
    "df.info()"
   ]
  },
  {
   "cell_type": "code",
   "execution_count": 8,
   "id": "e14f53b9",
   "metadata": {},
   "outputs": [
    {
     "data": {
      "text/html": [
       "<div>\n",
       "<style scoped>\n",
       "    .dataframe tbody tr th:only-of-type {\n",
       "        vertical-align: middle;\n",
       "    }\n",
       "\n",
       "    .dataframe tbody tr th {\n",
       "        vertical-align: top;\n",
       "    }\n",
       "\n",
       "    .dataframe thead th {\n",
       "        text-align: right;\n",
       "    }\n",
       "</style>\n",
       "<table border=\"1\" class=\"dataframe\">\n",
       "  <thead>\n",
       "    <tr style=\"text-align: right;\">\n",
       "      <th></th>\n",
       "      <th>age</th>\n",
       "      <th>sex</th>\n",
       "      <th>bmi</th>\n",
       "      <th>children</th>\n",
       "      <th>smoker</th>\n",
       "      <th>region</th>\n",
       "      <th>charges</th>\n",
       "    </tr>\n",
       "  </thead>\n",
       "  <tbody>\n",
       "    <tr>\n",
       "      <th>0</th>\n",
       "      <td>1</td>\n",
       "      <td>female</td>\n",
       "      <td>27.900</td>\n",
       "      <td>0</td>\n",
       "      <td>yes</td>\n",
       "      <td>southwest</td>\n",
       "      <td>16884.92400</td>\n",
       "    </tr>\n",
       "    <tr>\n",
       "      <th>1</th>\n",
       "      <td>0</td>\n",
       "      <td>male</td>\n",
       "      <td>33.770</td>\n",
       "      <td>1</td>\n",
       "      <td>no</td>\n",
       "      <td>southeast</td>\n",
       "      <td>1725.55230</td>\n",
       "    </tr>\n",
       "    <tr>\n",
       "      <th>2</th>\n",
       "      <td>10</td>\n",
       "      <td>male</td>\n",
       "      <td>33.000</td>\n",
       "      <td>3</td>\n",
       "      <td>no</td>\n",
       "      <td>southeast</td>\n",
       "      <td>4449.46200</td>\n",
       "    </tr>\n",
       "    <tr>\n",
       "      <th>3</th>\n",
       "      <td>15</td>\n",
       "      <td>male</td>\n",
       "      <td>22.705</td>\n",
       "      <td>0</td>\n",
       "      <td>no</td>\n",
       "      <td>northwest</td>\n",
       "      <td>21984.47061</td>\n",
       "    </tr>\n",
       "    <tr>\n",
       "      <th>4</th>\n",
       "      <td>14</td>\n",
       "      <td>male</td>\n",
       "      <td>28.880</td>\n",
       "      <td>0</td>\n",
       "      <td>no</td>\n",
       "      <td>northwest</td>\n",
       "      <td>3866.85520</td>\n",
       "    </tr>\n",
       "  </tbody>\n",
       "</table>\n",
       "</div>"
      ],
      "text/plain": [
       "   age     sex     bmi  children smoker     region      charges\n",
       "0    1  female  27.900         0    yes  southwest  16884.92400\n",
       "1    0    male  33.770         1     no  southeast   1725.55230\n",
       "2   10    male  33.000         3     no  southeast   4449.46200\n",
       "3   15    male  22.705         0     no  northwest  21984.47061\n",
       "4   14    male  28.880         0     no  northwest   3866.85520"
      ]
     },
     "execution_count": 8,
     "metadata": {},
     "output_type": "execute_result"
    }
   ],
   "source": [
    "df.head()"
   ]
  },
  {
   "cell_type": "code",
   "execution_count": 9,
   "id": "bfad10ad",
   "metadata": {},
   "outputs": [
    {
     "data": {
      "text/html": [
       "<div>\n",
       "<style scoped>\n",
       "    .dataframe tbody tr th:only-of-type {\n",
       "        vertical-align: middle;\n",
       "    }\n",
       "\n",
       "    .dataframe tbody tr th {\n",
       "        vertical-align: top;\n",
       "    }\n",
       "\n",
       "    .dataframe thead th {\n",
       "        text-align: right;\n",
       "    }\n",
       "</style>\n",
       "<table border=\"1\" class=\"dataframe\">\n",
       "  <thead>\n",
       "    <tr style=\"text-align: right;\">\n",
       "      <th></th>\n",
       "      <th>jins_female</th>\n",
       "      <th>jins_male</th>\n",
       "    </tr>\n",
       "  </thead>\n",
       "  <tbody>\n",
       "    <tr>\n",
       "      <th>0</th>\n",
       "      <td>1</td>\n",
       "      <td>0</td>\n",
       "    </tr>\n",
       "    <tr>\n",
       "      <th>1</th>\n",
       "      <td>0</td>\n",
       "      <td>1</td>\n",
       "    </tr>\n",
       "    <tr>\n",
       "      <th>2</th>\n",
       "      <td>0</td>\n",
       "      <td>1</td>\n",
       "    </tr>\n",
       "    <tr>\n",
       "      <th>3</th>\n",
       "      <td>0</td>\n",
       "      <td>1</td>\n",
       "    </tr>\n",
       "    <tr>\n",
       "      <th>4</th>\n",
       "      <td>0</td>\n",
       "      <td>1</td>\n",
       "    </tr>\n",
       "    <tr>\n",
       "      <th>...</th>\n",
       "      <td>...</td>\n",
       "      <td>...</td>\n",
       "    </tr>\n",
       "    <tr>\n",
       "      <th>1333</th>\n",
       "      <td>0</td>\n",
       "      <td>1</td>\n",
       "    </tr>\n",
       "    <tr>\n",
       "      <th>1334</th>\n",
       "      <td>1</td>\n",
       "      <td>0</td>\n",
       "    </tr>\n",
       "    <tr>\n",
       "      <th>1335</th>\n",
       "      <td>1</td>\n",
       "      <td>0</td>\n",
       "    </tr>\n",
       "    <tr>\n",
       "      <th>1336</th>\n",
       "      <td>1</td>\n",
       "      <td>0</td>\n",
       "    </tr>\n",
       "    <tr>\n",
       "      <th>1337</th>\n",
       "      <td>1</td>\n",
       "      <td>0</td>\n",
       "    </tr>\n",
       "  </tbody>\n",
       "</table>\n",
       "<p>1338 rows × 2 columns</p>\n",
       "</div>"
      ],
      "text/plain": [
       "      jins_female  jins_male\n",
       "0               1          0\n",
       "1               0          1\n",
       "2               0          1\n",
       "3               0          1\n",
       "4               0          1\n",
       "...           ...        ...\n",
       "1333            0          1\n",
       "1334            1          0\n",
       "1335            1          0\n",
       "1336            1          0\n",
       "1337            1          0\n",
       "\n",
       "[1338 rows x 2 columns]"
      ]
     },
     "execution_count": 9,
     "metadata": {},
     "output_type": "execute_result"
    }
   ],
   "source": [
    "#one hot encoding\n",
    "dum_data = pd.get_dummies(df['sex'], prefix='jins', dtype=int)\n",
    "dum_data"
   ]
  },
  {
   "cell_type": "code",
   "execution_count": 10,
   "id": "165fce06",
   "metadata": {},
   "outputs": [
    {
     "name": "stdout",
     "output_type": "stream",
     "text": [
      "<class 'pandas.core.frame.DataFrame'>\n",
      "RangeIndex: 1338 entries, 0 to 1337\n",
      "Data columns (total 8 columns):\n",
      " #   Column       Non-Null Count  Dtype  \n",
      "---  ------       --------------  -----  \n",
      " 0   age          1338 non-null   int64  \n",
      " 1   bmi          1338 non-null   float64\n",
      " 2   children     1338 non-null   int64  \n",
      " 3   smoker       1338 non-null   object \n",
      " 4   region       1338 non-null   object \n",
      " 5   charges      1338 non-null   float64\n",
      " 6   jins_female  1338 non-null   int64  \n",
      " 7   jins_male    1338 non-null   int64  \n",
      "dtypes: float64(2), int64(4), object(2)\n",
      "memory usage: 83.8+ KB\n"
     ]
    }
   ],
   "source": [
    "df=pd.concat([df.drop(columns='sex'), dum_data], axis=1)\n",
    "df.info()"
   ]
  },
  {
   "cell_type": "code",
   "execution_count": 11,
   "id": "795c5fa9",
   "metadata": {},
   "outputs": [
    {
     "data": {
      "text/html": [
       "<div>\n",
       "<style scoped>\n",
       "    .dataframe tbody tr th:only-of-type {\n",
       "        vertical-align: middle;\n",
       "    }\n",
       "\n",
       "    .dataframe tbody tr th {\n",
       "        vertical-align: top;\n",
       "    }\n",
       "\n",
       "    .dataframe thead th {\n",
       "        text-align: right;\n",
       "    }\n",
       "</style>\n",
       "<table border=\"1\" class=\"dataframe\">\n",
       "  <thead>\n",
       "    <tr style=\"text-align: right;\">\n",
       "      <th></th>\n",
       "      <th>age</th>\n",
       "      <th>bmi</th>\n",
       "      <th>children</th>\n",
       "      <th>smoker</th>\n",
       "      <th>region</th>\n",
       "      <th>charges</th>\n",
       "      <th>jins_female</th>\n",
       "      <th>jins_male</th>\n",
       "    </tr>\n",
       "  </thead>\n",
       "  <tbody>\n",
       "    <tr>\n",
       "      <th>1333</th>\n",
       "      <td>32</td>\n",
       "      <td>30.97</td>\n",
       "      <td>3</td>\n",
       "      <td>no</td>\n",
       "      <td>northwest</td>\n",
       "      <td>10600.5483</td>\n",
       "      <td>0</td>\n",
       "      <td>1</td>\n",
       "    </tr>\n",
       "    <tr>\n",
       "      <th>1334</th>\n",
       "      <td>0</td>\n",
       "      <td>31.92</td>\n",
       "      <td>0</td>\n",
       "      <td>no</td>\n",
       "      <td>northeast</td>\n",
       "      <td>2205.9808</td>\n",
       "      <td>1</td>\n",
       "      <td>0</td>\n",
       "    </tr>\n",
       "    <tr>\n",
       "      <th>1335</th>\n",
       "      <td>0</td>\n",
       "      <td>36.85</td>\n",
       "      <td>0</td>\n",
       "      <td>no</td>\n",
       "      <td>southeast</td>\n",
       "      <td>1629.8335</td>\n",
       "      <td>1</td>\n",
       "      <td>0</td>\n",
       "    </tr>\n",
       "    <tr>\n",
       "      <th>1336</th>\n",
       "      <td>3</td>\n",
       "      <td>25.80</td>\n",
       "      <td>0</td>\n",
       "      <td>no</td>\n",
       "      <td>southwest</td>\n",
       "      <td>2007.9450</td>\n",
       "      <td>1</td>\n",
       "      <td>0</td>\n",
       "    </tr>\n",
       "    <tr>\n",
       "      <th>1337</th>\n",
       "      <td>43</td>\n",
       "      <td>29.07</td>\n",
       "      <td>0</td>\n",
       "      <td>yes</td>\n",
       "      <td>northwest</td>\n",
       "      <td>29141.3603</td>\n",
       "      <td>1</td>\n",
       "      <td>0</td>\n",
       "    </tr>\n",
       "  </tbody>\n",
       "</table>\n",
       "</div>"
      ],
      "text/plain": [
       "      age    bmi  children smoker     region     charges  jins_female  \\\n",
       "1333   32  30.97         3     no  northwest  10600.5483            0   \n",
       "1334    0  31.92         0     no  northeast   2205.9808            1   \n",
       "1335    0  36.85         0     no  southeast   1629.8335            1   \n",
       "1336    3  25.80         0     no  southwest   2007.9450            1   \n",
       "1337   43  29.07         0    yes  northwest  29141.3603            1   \n",
       "\n",
       "      jins_male  \n",
       "1333          1  \n",
       "1334          0  \n",
       "1335          0  \n",
       "1336          0  \n",
       "1337          0  "
      ]
     },
     "execution_count": 11,
     "metadata": {},
     "output_type": "execute_result"
    }
   ],
   "source": [
    "df.tail()"
   ]
  },
  {
   "cell_type": "code",
   "execution_count": 17,
   "id": "f7448365",
   "metadata": {},
   "outputs": [
    {
     "data": {
      "text/html": [
       "<div>\n",
       "<style scoped>\n",
       "    .dataframe tbody tr th:only-of-type {\n",
       "        vertical-align: middle;\n",
       "    }\n",
       "\n",
       "    .dataframe tbody tr th {\n",
       "        vertical-align: top;\n",
       "    }\n",
       "\n",
       "    .dataframe thead th {\n",
       "        text-align: right;\n",
       "    }\n",
       "</style>\n",
       "<table border=\"1\" class=\"dataframe\">\n",
       "  <thead>\n",
       "    <tr style=\"text-align: right;\">\n",
       "      <th></th>\n",
       "      <th>smokes_no</th>\n",
       "      <th>smokes_yes</th>\n",
       "    </tr>\n",
       "  </thead>\n",
       "  <tbody>\n",
       "    <tr>\n",
       "      <th>0</th>\n",
       "      <td>0</td>\n",
       "      <td>1</td>\n",
       "    </tr>\n",
       "    <tr>\n",
       "      <th>1</th>\n",
       "      <td>1</td>\n",
       "      <td>0</td>\n",
       "    </tr>\n",
       "    <tr>\n",
       "      <th>2</th>\n",
       "      <td>1</td>\n",
       "      <td>0</td>\n",
       "    </tr>\n",
       "    <tr>\n",
       "      <th>3</th>\n",
       "      <td>1</td>\n",
       "      <td>0</td>\n",
       "    </tr>\n",
       "    <tr>\n",
       "      <th>4</th>\n",
       "      <td>1</td>\n",
       "      <td>0</td>\n",
       "    </tr>\n",
       "    <tr>\n",
       "      <th>...</th>\n",
       "      <td>...</td>\n",
       "      <td>...</td>\n",
       "    </tr>\n",
       "    <tr>\n",
       "      <th>1333</th>\n",
       "      <td>1</td>\n",
       "      <td>0</td>\n",
       "    </tr>\n",
       "    <tr>\n",
       "      <th>1334</th>\n",
       "      <td>1</td>\n",
       "      <td>0</td>\n",
       "    </tr>\n",
       "    <tr>\n",
       "      <th>1335</th>\n",
       "      <td>1</td>\n",
       "      <td>0</td>\n",
       "    </tr>\n",
       "    <tr>\n",
       "      <th>1336</th>\n",
       "      <td>1</td>\n",
       "      <td>0</td>\n",
       "    </tr>\n",
       "    <tr>\n",
       "      <th>1337</th>\n",
       "      <td>0</td>\n",
       "      <td>1</td>\n",
       "    </tr>\n",
       "  </tbody>\n",
       "</table>\n",
       "<p>1338 rows × 2 columns</p>\n",
       "</div>"
      ],
      "text/plain": [
       "      smokes_no  smokes_yes\n",
       "0             0           1\n",
       "1             1           0\n",
       "2             1           0\n",
       "3             1           0\n",
       "4             1           0\n",
       "...         ...         ...\n",
       "1333          1           0\n",
       "1334          1           0\n",
       "1335          1           0\n",
       "1336          1           0\n",
       "1337          0           1\n",
       "\n",
       "[1338 rows x 2 columns]"
      ]
     },
     "execution_count": 17,
     "metadata": {},
     "output_type": "execute_result"
    }
   ],
   "source": [
    "#2nd try with one hot\n",
    "dum_data2=pd.get_dummies(df['smoker'], prefix='smokes', dtype=int)\n",
    "dum_data2"
   ]
  },
  {
   "cell_type": "code",
   "execution_count": 18,
   "id": "9190c9a6",
   "metadata": {},
   "outputs": [
    {
     "name": "stdout",
     "output_type": "stream",
     "text": [
      "<class 'pandas.core.frame.DataFrame'>\n",
      "RangeIndex: 1338 entries, 0 to 1337\n",
      "Data columns (total 8 columns):\n",
      " #   Column      Non-Null Count  Dtype  \n",
      "---  ------      --------------  -----  \n",
      " 0   age         1338 non-null   int64  \n",
      " 1   sex         1338 non-null   object \n",
      " 2   bmi         1338 non-null   float64\n",
      " 3   children    1338 non-null   int64  \n",
      " 4   region      1338 non-null   object \n",
      " 5   charges     1338 non-null   float64\n",
      " 6   smokes_no   1338 non-null   int64  \n",
      " 7   smokes_yes  1338 non-null   int64  \n",
      "dtypes: float64(2), int64(4), object(2)\n",
      "memory usage: 83.8+ KB\n"
     ]
    }
   ],
   "source": [
    "df=pd.concat([df.drop(columns='smoker'), dum_data2], axis=1)\n",
    "df.info()"
   ]
  },
  {
   "cell_type": "code",
   "execution_count": 19,
   "id": "c0927ac7",
   "metadata": {},
   "outputs": [
    {
     "data": {
      "text/html": [
       "<div>\n",
       "<style scoped>\n",
       "    .dataframe tbody tr th:only-of-type {\n",
       "        vertical-align: middle;\n",
       "    }\n",
       "\n",
       "    .dataframe tbody tr th {\n",
       "        vertical-align: top;\n",
       "    }\n",
       "\n",
       "    .dataframe thead th {\n",
       "        text-align: right;\n",
       "    }\n",
       "</style>\n",
       "<table border=\"1\" class=\"dataframe\">\n",
       "  <thead>\n",
       "    <tr style=\"text-align: right;\">\n",
       "      <th></th>\n",
       "      <th>age</th>\n",
       "      <th>sex</th>\n",
       "      <th>bmi</th>\n",
       "      <th>children</th>\n",
       "      <th>region</th>\n",
       "      <th>charges</th>\n",
       "      <th>smokes_no</th>\n",
       "      <th>smokes_yes</th>\n",
       "    </tr>\n",
       "  </thead>\n",
       "  <tbody>\n",
       "    <tr>\n",
       "      <th>0</th>\n",
       "      <td>19</td>\n",
       "      <td>female</td>\n",
       "      <td>27.900</td>\n",
       "      <td>0</td>\n",
       "      <td>southwest</td>\n",
       "      <td>16884.92400</td>\n",
       "      <td>0</td>\n",
       "      <td>1</td>\n",
       "    </tr>\n",
       "    <tr>\n",
       "      <th>1</th>\n",
       "      <td>18</td>\n",
       "      <td>male</td>\n",
       "      <td>33.770</td>\n",
       "      <td>1</td>\n",
       "      <td>southeast</td>\n",
       "      <td>1725.55230</td>\n",
       "      <td>1</td>\n",
       "      <td>0</td>\n",
       "    </tr>\n",
       "    <tr>\n",
       "      <th>2</th>\n",
       "      <td>28</td>\n",
       "      <td>male</td>\n",
       "      <td>33.000</td>\n",
       "      <td>3</td>\n",
       "      <td>southeast</td>\n",
       "      <td>4449.46200</td>\n",
       "      <td>1</td>\n",
       "      <td>0</td>\n",
       "    </tr>\n",
       "    <tr>\n",
       "      <th>3</th>\n",
       "      <td>33</td>\n",
       "      <td>male</td>\n",
       "      <td>22.705</td>\n",
       "      <td>0</td>\n",
       "      <td>northwest</td>\n",
       "      <td>21984.47061</td>\n",
       "      <td>1</td>\n",
       "      <td>0</td>\n",
       "    </tr>\n",
       "    <tr>\n",
       "      <th>4</th>\n",
       "      <td>32</td>\n",
       "      <td>male</td>\n",
       "      <td>28.880</td>\n",
       "      <td>0</td>\n",
       "      <td>northwest</td>\n",
       "      <td>3866.85520</td>\n",
       "      <td>1</td>\n",
       "      <td>0</td>\n",
       "    </tr>\n",
       "  </tbody>\n",
       "</table>\n",
       "</div>"
      ],
      "text/plain": [
       "   age     sex     bmi  children     region      charges  smokes_no  \\\n",
       "0   19  female  27.900         0  southwest  16884.92400          0   \n",
       "1   18    male  33.770         1  southeast   1725.55230          1   \n",
       "2   28    male  33.000         3  southeast   4449.46200          1   \n",
       "3   33    male  22.705         0  northwest  21984.47061          1   \n",
       "4   32    male  28.880         0  northwest   3866.85520          1   \n",
       "\n",
       "   smokes_yes  \n",
       "0           1  \n",
       "1           0  \n",
       "2           0  \n",
       "3           0  \n",
       "4           0  "
      ]
     },
     "execution_count": 19,
     "metadata": {},
     "output_type": "execute_result"
    }
   ],
   "source": [
    "df.head()"
   ]
  },
  {
   "cell_type": "code",
   "execution_count": null,
   "id": "9dfa4408",
   "metadata": {},
   "outputs": [],
   "source": []
  }
 ],
 "metadata": {
  "kernelspec": {
   "display_name": "Python 3",
   "language": "python",
   "name": "python3"
  },
  "language_info": {
   "codemirror_mode": {
    "name": "ipython",
    "version": 3
   },
   "file_extension": ".py",
   "mimetype": "text/x-python",
   "name": "python",
   "nbconvert_exporter": "python",
   "pygments_lexer": "ipython3",
   "version": "3.13.7"
  }
 },
 "nbformat": 4,
 "nbformat_minor": 5
}
