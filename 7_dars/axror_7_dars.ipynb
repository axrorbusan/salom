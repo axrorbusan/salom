{
 "cells": [
  {
   "cell_type": "code",
   "execution_count": 17,
   "id": "2200f37a",
   "metadata": {},
   "outputs": [
    {
     "name": "stdout",
     "output_type": "stream",
     "text": [
      "<class 'pandas.core.frame.DataFrame'>\n",
      "RangeIndex: 40 entries, 0 to 39\n",
      "Data columns (total 24 columns):\n",
      " #   Column                             Non-Null Count  Dtype  \n",
      "---  ------                             --------------  -----  \n",
      " 0   gender                             40 non-null     object \n",
      " 1   age                                31 non-null     float64\n",
      " 2   Investment_Avenues                 40 non-null     object \n",
      " 3   Mutual_Funds                       39 non-null     float64\n",
      " 4   Equity_Market                      39 non-null     float64\n",
      " 5   Debentures                         39 non-null     float64\n",
      " 6   Government_Bonds                   40 non-null     int64  \n",
      " 7   Fixed_Deposits                     40 non-null     int64  \n",
      " 8   PPF                                40 non-null     int64  \n",
      " 9   Gold                               40 non-null     int64  \n",
      " 10  Stock_Marktet                      34 non-null     object \n",
      " 11  Factor                             37 non-null     object \n",
      " 12  Objective                          39 non-null     object \n",
      " 13  Purpose                            37 non-null     object \n",
      " 14  Duration                           39 non-null     object \n",
      " 15  Invest_Monitor                     37 non-null     object \n",
      " 16  Expect                             39 non-null     object \n",
      " 17  Avenue                             40 non-null     object \n",
      " 18  What are your savings objectives?  40 non-null     object \n",
      " 19  Reason_Equity                      40 non-null     object \n",
      " 20  Reason_Mutual                      40 non-null     object \n",
      " 21  Reason_Bonds                       40 non-null     object \n",
      " 22  Reason_FD                          40 non-null     object \n",
      " 23  Source                             40 non-null     object \n",
      "dtypes: float64(4), int64(4), object(16)\n",
      "memory usage: 7.6+ KB\n"
     ]
    }
   ],
   "source": [
    "import pandas as pd\n",
    "df = pd.read_csv('Finance_data.csv')\n",
    "df.info()"
   ]
  },
  {
   "cell_type": "code",
   "execution_count": 18,
   "id": "b61dcaf6",
   "metadata": {},
   "outputs": [
    {
     "data": {
      "text/plain": [
       "gender                               0\n",
       "age                                  9\n",
       "Investment_Avenues                   0\n",
       "Mutual_Funds                         1\n",
       "Equity_Market                        1\n",
       "Debentures                           1\n",
       "Government_Bonds                     0\n",
       "Fixed_Deposits                       0\n",
       "PPF                                  0\n",
       "Gold                                 0\n",
       "Stock_Marktet                        6\n",
       "Factor                               3\n",
       "Objective                            1\n",
       "Purpose                              3\n",
       "Duration                             1\n",
       "Invest_Monitor                       3\n",
       "Expect                               1\n",
       "Avenue                               0\n",
       "What are your savings objectives?    0\n",
       "Reason_Equity                        0\n",
       "Reason_Mutual                        0\n",
       "Reason_Bonds                         0\n",
       "Reason_FD                            0\n",
       "Source                               0\n",
       "dtype: int64"
      ]
     },
     "execution_count": 18,
     "metadata": {},
     "output_type": "execute_result"
    }
   ],
   "source": [
    "df.isnull().sum()"
   ]
  },
  {
   "cell_type": "code",
   "execution_count": 19,
   "id": "fe009428",
   "metadata": {},
   "outputs": [
    {
     "name": "stderr",
     "output_type": "stream",
     "text": [
      "/var/folders/2s/kw_rwvhn10q4r6bv09y0my5r0000gn/T/ipykernel_2515/1644704826.py:2: FutureWarning: A value is trying to be set on a copy of a DataFrame or Series through chained assignment using an inplace method.\n",
      "The behavior will change in pandas 3.0. This inplace method will never work because the intermediate object on which we are setting values always behaves as a copy.\n",
      "\n",
      "For example, when doing 'df[col].method(value, inplace=True)', try using 'df.method({col: value}, inplace=True)' or df[col] = df[col].method(value) instead, to perform the operation inplace on the original object.\n",
      "\n",
      "\n",
      "  df['age'].fillna(df['age'].mean(), inplace=True)\n",
      "/var/folders/2s/kw_rwvhn10q4r6bv09y0my5r0000gn/T/ipykernel_2515/1644704826.py:3: FutureWarning: A value is trying to be set on a copy of a DataFrame or Series through chained assignment using an inplace method.\n",
      "The behavior will change in pandas 3.0. This inplace method will never work because the intermediate object on which we are setting values always behaves as a copy.\n",
      "\n",
      "For example, when doing 'df[col].method(value, inplace=True)', try using 'df.method({col: value}, inplace=True)' or df[col] = df[col].method(value) instead, to perform the operation inplace on the original object.\n",
      "\n",
      "\n",
      "  df['Stock_Marktet'].fillna(df['Stock_Marktet'].mode(), inplace=True)\n",
      "/var/folders/2s/kw_rwvhn10q4r6bv09y0my5r0000gn/T/ipykernel_2515/1644704826.py:4: FutureWarning: A value is trying to be set on a copy of a DataFrame or Series through chained assignment using an inplace method.\n",
      "The behavior will change in pandas 3.0. This inplace method will never work because the intermediate object on which we are setting values always behaves as a copy.\n",
      "\n",
      "For example, when doing 'df[col].method(value, inplace=True)', try using 'df.method({col: value}, inplace=True)' or df[col] = df[col].method(value) instead, to perform the operation inplace on the original object.\n",
      "\n",
      "\n",
      "  df['Mutual_Funds'].fillna(df['Mutual_Funds'].median(), inplace=True)\n"
     ]
    },
    {
     "data": {
      "text/plain": [
       "0     20%-30%\n",
       "1     20%-30%\n",
       "2     20%-30%\n",
       "3     10%-20%\n",
       "4     20%-30%\n",
       "5     30%-40%\n",
       "6     20%-30%\n",
       "7     20%-30%\n",
       "8     20%-30%\n",
       "9     30%-40%\n",
       "10    20%-30%\n",
       "11    20%-30%\n",
       "12    20%-30%\n",
       "13    20%-30%\n",
       "14    20%-30%\n",
       "15    20%-30%\n",
       "16    20%-30%\n",
       "17    20%-30%\n",
       "18    20%-30%\n",
       "19    20%-30%\n",
       "20    20%-30%\n",
       "21    20%-30%\n",
       "22    20%-30%\n",
       "24    30%-40%\n",
       "25    20%-30%\n",
       "26    20%-30%\n",
       "27    20%-30%\n",
       "28    20%-30%\n",
       "29    10%-20%\n",
       "30    10%-20%\n",
       "31    20%-30%\n",
       "32    30%-40%\n",
       "33    20%-30%\n",
       "34    20%-30%\n",
       "35    20%-30%\n",
       "36    20%-30%\n",
       "37    30%-40%\n",
       "38    20%-30%\n",
       "39    20%-30%\n",
       "Name: Expect, dtype: object"
      ]
     },
     "execution_count": 19,
     "metadata": {},
     "output_type": "execute_result"
    }
   ],
   "source": [
    "#5ta usulda\n",
    "df['age'].fillna(df['age'].mean(), inplace=True)\n",
    "df['Stock_Marktet'].fillna(df['Stock_Marktet'].mode(), inplace=True)\n",
    "df['Mutual_Funds'].fillna(df['Mutual_Funds'].median(), inplace=True)\n",
    "df['Gold'].fillna(100, axis=0)\n",
    "df['Expect'].dropna()"
   ]
  },
  {
   "cell_type": "code",
   "execution_count": 20,
   "id": "c294dc84",
   "metadata": {},
   "outputs": [
    {
     "data": {
      "text/plain": [
       "gender                               0\n",
       "age                                  0\n",
       "Investment_Avenues                   0\n",
       "Mutual_Funds                         0\n",
       "Equity_Market                        1\n",
       "Debentures                           1\n",
       "Government_Bonds                     0\n",
       "Fixed_Deposits                       0\n",
       "PPF                                  0\n",
       "Gold                                 0\n",
       "Stock_Marktet                        6\n",
       "Factor                               3\n",
       "Objective                            1\n",
       "Purpose                              3\n",
       "Duration                             1\n",
       "Invest_Monitor                       3\n",
       "Expect                               1\n",
       "Avenue                               0\n",
       "What are your savings objectives?    0\n",
       "Reason_Equity                        0\n",
       "Reason_Mutual                        0\n",
       "Reason_Bonds                         0\n",
       "Reason_FD                            0\n",
       "Source                               0\n",
       "dtype: int64"
      ]
     },
     "execution_count": 20,
     "metadata": {},
     "output_type": "execute_result"
    }
   ],
   "source": [
    "df.isnull().sum()"
   ]
  },
  {
   "cell_type": "code",
   "execution_count": 21,
   "id": "d89d1899",
   "metadata": {},
   "outputs": [
    {
     "name": "stdout",
     "output_type": "stream",
     "text": [
      "<class 'pandas.core.frame.DataFrame'>\n",
      "RangeIndex: 40 entries, 0 to 39\n",
      "Data columns (total 24 columns):\n",
      " #   Column                             Non-Null Count  Dtype  \n",
      "---  ------                             --------------  -----  \n",
      " 0   gender                             40 non-null     object \n",
      " 1   age                                31 non-null     float64\n",
      " 2   Investment_Avenues                 40 non-null     object \n",
      " 3   Mutual_Funds                       39 non-null     float64\n",
      " 4   Equity_Market                      39 non-null     float64\n",
      " 5   Debentures                         39 non-null     float64\n",
      " 6   Government_Bonds                   40 non-null     int64  \n",
      " 7   Fixed_Deposits                     40 non-null     int64  \n",
      " 8   PPF                                40 non-null     int64  \n",
      " 9   Gold                               40 non-null     int64  \n",
      " 10  Stock_Marktet                      34 non-null     object \n",
      " 11  Factor                             37 non-null     object \n",
      " 12  Objective                          39 non-null     object \n",
      " 13  Purpose                            37 non-null     object \n",
      " 14  Duration                           39 non-null     object \n",
      " 15  Invest_Monitor                     37 non-null     object \n",
      " 16  Expect                             39 non-null     object \n",
      " 17  Avenue                             40 non-null     object \n",
      " 18  What are your savings objectives?  40 non-null     object \n",
      " 19  Reason_Equity                      40 non-null     object \n",
      " 20  Reason_Mutual                      40 non-null     object \n",
      " 21  Reason_Bonds                       40 non-null     object \n",
      " 22  Reason_FD                          40 non-null     object \n",
      " 23  Source                             40 non-null     object \n",
      "dtypes: float64(4), int64(4), object(16)\n",
      "memory usage: 7.6+ KB\n"
     ]
    }
   ],
   "source": [
    "#for bilan\n",
    "df = pd.read_csv('Finance_data.csv')\n",
    "df.info()"
   ]
  },
  {
   "cell_type": "code",
   "execution_count": 22,
   "id": "0b2d1b7c",
   "metadata": {},
   "outputs": [
    {
     "name": "stdout",
     "output_type": "stream",
     "text": [
      "<class 'pandas.core.frame.DataFrame'>\n",
      "RangeIndex: 40 entries, 0 to 39\n",
      "Data columns (total 24 columns):\n",
      " #   Column                             Non-Null Count  Dtype  \n",
      "---  ------                             --------------  -----  \n",
      " 0   gender                             40 non-null     object \n",
      " 1   age                                40 non-null     float64\n",
      " 2   Investment_Avenues                 40 non-null     object \n",
      " 3   Mutual_Funds                       40 non-null     float64\n",
      " 4   Equity_Market                      40 non-null     float64\n",
      " 5   Debentures                         40 non-null     float64\n",
      " 6   Government_Bonds                   40 non-null     int64  \n",
      " 7   Fixed_Deposits                     40 non-null     int64  \n",
      " 8   PPF                                40 non-null     int64  \n",
      " 9   Gold                               40 non-null     int64  \n",
      " 10  Stock_Marktet                      40 non-null     object \n",
      " 11  Factor                             40 non-null     object \n",
      " 12  Objective                          40 non-null     object \n",
      " 13  Purpose                            40 non-null     object \n",
      " 14  Duration                           40 non-null     object \n",
      " 15  Invest_Monitor                     40 non-null     object \n",
      " 16  Expect                             40 non-null     object \n",
      " 17  Avenue                             40 non-null     object \n",
      " 18  What are your savings objectives?  40 non-null     object \n",
      " 19  Reason_Equity                      40 non-null     object \n",
      " 20  Reason_Mutual                      40 non-null     object \n",
      " 21  Reason_Bonds                       40 non-null     object \n",
      " 22  Reason_FD                          40 non-null     object \n",
      " 23  Source                             40 non-null     object \n",
      "dtypes: float64(4), int64(4), object(16)\n",
      "memory usage: 7.6+ KB\n"
     ]
    },
    {
     "name": "stderr",
     "output_type": "stream",
     "text": [
      "/var/folders/2s/kw_rwvhn10q4r6bv09y0my5r0000gn/T/ipykernel_2515/2584248640.py:5: FutureWarning: A value is trying to be set on a copy of a DataFrame or Series through chained assignment using an inplace method.\n",
      "The behavior will change in pandas 3.0. This inplace method will never work because the intermediate object on which we are setting values always behaves as a copy.\n",
      "\n",
      "For example, when doing 'df[col].method(value, inplace=True)', try using 'df.method({col: value}, inplace=True)' or df[col] = df[col].method(value) instead, to perform the operation inplace on the original object.\n",
      "\n",
      "\n",
      "  else: df[item].fillna(df[item].mean(), inplace=True)\n",
      "/var/folders/2s/kw_rwvhn10q4r6bv09y0my5r0000gn/T/ipykernel_2515/2584248640.py:4: FutureWarning: A value is trying to be set on a copy of a DataFrame or Series through chained assignment using an inplace method.\n",
      "The behavior will change in pandas 3.0. This inplace method will never work because the intermediate object on which we are setting values always behaves as a copy.\n",
      "\n",
      "For example, when doing 'df[col].method(value, inplace=True)', try using 'df.method({col: value}, inplace=True)' or df[col] = df[col].method(value) instead, to perform the operation inplace on the original object.\n",
      "\n",
      "\n",
      "  df[item].fillna(df[item].mode()[0], inplace=True)\n"
     ]
    }
   ],
   "source": [
    "for item in df.columns:\n",
    "    if df[item].isnull().any():\n",
    "        if df[item].dtype == 'object':\n",
    "            df[item].fillna(df[item].mode()[0], inplace=True)\n",
    "        else: df[item].fillna(df[item].mean(), inplace=True)\n",
    "df.info()"
   ]
  },
  {
   "cell_type": "code",
   "execution_count": 23,
   "id": "3c22abc2",
   "metadata": {},
   "outputs": [],
   "source": [
    "#for loop uchun 10ta misol"
   ]
  },
  {
   "cell_type": "code",
   "execution_count": 24,
   "id": "751a1c8f",
   "metadata": {},
   "outputs": [
    {
     "name": "stdout",
     "output_type": "stream",
     "text": [
      "breakfast\n",
      "lunch\n",
      "dinner\n",
      "dessert\n",
      "brunch\n"
     ]
    }
   ],
   "source": [
    "meals = ['breakfast', 'lunch', 'dinner', 'dessert', 'brunch']\n",
    "for i in range(5):\n",
    "    print(meals[i])"
   ]
  },
  {
   "cell_type": "code",
   "execution_count": 25,
   "id": "04b1e912",
   "metadata": {},
   "outputs": [
    {
     "name": "stdout",
     "output_type": "stream",
     "text": [
      "1,6,11,16,21,26,31,36,41,46,51,56,61,66,71,76,81,86,91,96,"
     ]
    }
   ],
   "source": [
    "for i in range(1,100, 5):\n",
    "    print(i, end=',')"
   ]
  },
  {
   "cell_type": "code",
   "execution_count": 30,
   "id": "8f7bf7e0",
   "metadata": {},
   "outputs": [
    {
     "name": "stdout",
     "output_type": "stream",
     "text": [
      "sum is 110\n"
     ]
    }
   ],
   "source": [
    "total=0\n",
    "for i in range(1,111):\n",
    "    total+=1\n",
    "print(\"sum is\", total)\n"
   ]
  },
  {
   "cell_type": "code",
   "execution_count": 35,
   "id": "cbbee60a",
   "metadata": {},
   "outputs": [
    {
     "name": "stdout",
     "output_type": "stream",
     "text": [
      "h+e+l+l+o+w+r+o+n+g+"
     ]
    }
   ],
   "source": [
    "word = 'hellowrong'\n",
    "for charry in word:\n",
    "    print(charry, end='+')"
   ]
  },
  {
   "cell_type": "code",
   "execution_count": 38,
   "id": "fb6ae5b7",
   "metadata": {},
   "outputs": [
    {
     "name": "stdout",
     "output_type": "stream",
     "text": [
      "20,40,60,80,100,"
     ]
    }
   ],
   "source": [
    "numbers = [1,2,3,4,5]\n",
    "for i in numbers:\n",
    "    print(i*20, end=',')"
   ]
  },
  {
   "cell_type": "code",
   "execution_count": 39,
   "id": "511fec1d",
   "metadata": {},
   "outputs": [
    {
     "name": "stdout",
     "output_type": "stream",
     "text": [
      "Mercury Venus Earth Mars Jupiter Saturn Uranus Neptune "
     ]
    }
   ],
   "source": [
    "planets = ['Mercury', 'Venus', 'Earth', 'Mars', 'Jupiter', 'Saturn', 'Uranus', 'Neptune']\n",
    "for planet in planets:\n",
    "    print(planet, end=' ')"
   ]
  },
  {
   "cell_type": "code",
   "execution_count": 40,
   "id": "969514eb",
   "metadata": {},
   "outputs": [
    {
     "name": "stdout",
     "output_type": "stream",
     "text": [
      "2 is even\n",
      "4 is even\n",
      "6 is even\n",
      "8 is even\n",
      "10 is even\n"
     ]
    }
   ],
   "source": [
    "for i in range(1, 11):\n",
    "    if i % 2 == 0:\n",
    "        print(i, \"is even\")"
   ]
  },
  {
   "cell_type": "code",
   "execution_count": 41,
   "id": "8972ac1a",
   "metadata": {},
   "outputs": [
    {
     "name": "stdout",
     "output_type": "stream",
     "text": [
      "1 is odd\n",
      "3 is odd\n",
      "5 is odd\n",
      "7 is odd\n",
      "9 is odd\n"
     ]
    }
   ],
   "source": [
    "for i in range(1, 11):\n",
    "    if i % 2 == 1:\n",
    "        print(i, \"is odd\")"
   ]
  },
  {
   "cell_type": "code",
   "execution_count": 46,
   "id": "8d58952c",
   "metadata": {},
   "outputs": [
    {
     "name": "stdout",
     "output_type": "stream",
     "text": [
      "1 * 1 = 1\n",
      "1 * 2 = 2\n",
      "1 * 3 = 3\n",
      "1 * 4 = 4\n",
      "1 * 5 = 5\n",
      "1 * 6 = 6\n",
      "1 * 7 = 7\n",
      "1 * 8 = 8\n",
      "1 * 9 = 9\n",
      "1 * 10 = 10\n",
      "2 * 1 = 2\n",
      "2 * 2 = 4\n",
      "2 * 3 = 6\n",
      "2 * 4 = 8\n",
      "2 * 5 = 10\n",
      "2 * 6 = 12\n",
      "2 * 7 = 14\n",
      "2 * 8 = 16\n",
      "2 * 9 = 18\n",
      "2 * 10 = 20\n"
     ]
    }
   ],
   "source": [
    "for i in range(1, 3):\n",
    "    for j in range(1, 11):\n",
    "        print(i, \"*\", j, \"=\", i*j)"
   ]
  },
  {
   "cell_type": "code",
   "execution_count": 47,
   "id": "8191f3d2",
   "metadata": {},
   "outputs": [
    {
     "name": "stdout",
     "output_type": "stream",
     "text": [
      "number of vowels: 13\n"
     ]
    }
   ],
   "source": [
    "text = 'sbgnhusbgh wegrberBGHgb w gbeGAIUrwgibwer wergb iuwebrgw'\n",
    "vowels = 'aeiouAEIOU'\n",
    "count=0\n",
    "\n",
    "for charry in text:\n",
    "    if charry in vowels:\n",
    "        count+=1\n",
    "print(\"number of vowels:\", count)"
   ]
  }
 ],
 "metadata": {
  "kernelspec": {
   "display_name": "Python 3",
   "language": "python",
   "name": "python3"
  },
  "language_info": {
   "codemirror_mode": {
    "name": "ipython",
    "version": 3
   },
   "file_extension": ".py",
   "mimetype": "text/x-python",
   "name": "python",
   "nbconvert_exporter": "python",
   "pygments_lexer": "ipython3",
   "version": "3.13.7"
  }
 },
 "nbformat": 4,
 "nbformat_minor": 5
}
