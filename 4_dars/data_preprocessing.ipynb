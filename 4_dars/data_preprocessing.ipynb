{
 "cells": [
  {
   "cell_type": "code",
   "execution_count": 1,
   "id": "67912bcb",
   "metadata": {},
   "outputs": [],
   "source": [
    "import pandas as pd \n"
   ]
  },
  {
   "cell_type": "code",
   "execution_count": 54,
   "id": "7f3a5816",
   "metadata": {},
   "outputs": [],
   "source": [
    "df=pd.read_csv('cars2018.csv')"
   ]
  },
  {
   "cell_type": "code",
   "execution_count": 23,
   "id": "3986430f",
   "metadata": {},
   "outputs": [
    {
     "data": {
      "text/html": [
       "<div>\n",
       "<style scoped>\n",
       "    .dataframe tbody tr th:only-of-type {\n",
       "        vertical-align: middle;\n",
       "    }\n",
       "\n",
       "    .dataframe tbody tr th {\n",
       "        vertical-align: top;\n",
       "    }\n",
       "\n",
       "    .dataframe thead th {\n",
       "        text-align: right;\n",
       "    }\n",
       "</style>\n",
       "<table border=\"1\" class=\"dataframe\">\n",
       "  <thead>\n",
       "    <tr style=\"text-align: right;\">\n",
       "      <th></th>\n",
       "      <th>model</th>\n",
       "      <th>model_index</th>\n",
       "      <th>displacement</th>\n",
       "      <th>cylinders</th>\n",
       "      <th>gears</th>\n",
       "      <th>transmission</th>\n",
       "      <th>mpg</th>\n",
       "      <th>aspiration</th>\n",
       "      <th>lockup_torque_converter</th>\n",
       "      <th>drive</th>\n",
       "      <th>max_ethanol</th>\n",
       "      <th>recommended_fuel</th>\n",
       "      <th>intake_valves_per_cyl</th>\n",
       "      <th>exhaust_valves_per_cyl</th>\n",
       "      <th>fuel_injection</th>\n",
       "    </tr>\n",
       "  </thead>\n",
       "  <tbody>\n",
       "    <tr>\n",
       "      <th>0</th>\n",
       "      <td>Acura NSX</td>\n",
       "      <td>57.0</td>\n",
       "      <td>3.5</td>\n",
       "      <td>6</td>\n",
       "      <td>9</td>\n",
       "      <td>Manual</td>\n",
       "      <td>21</td>\n",
       "      <td>Turbocharged/Supercharged</td>\n",
       "      <td>Y</td>\n",
       "      <td>All Wheel Drive</td>\n",
       "      <td>10</td>\n",
       "      <td>Premium Unleaded Required</td>\n",
       "      <td>2</td>\n",
       "      <td>2.0</td>\n",
       "      <td>Direct ignition</td>\n",
       "    </tr>\n",
       "    <tr>\n",
       "      <th>1</th>\n",
       "      <td>ALFA ROMEO 4C</td>\n",
       "      <td>410.0</td>\n",
       "      <td>1.8</td>\n",
       "      <td>4</td>\n",
       "      <td>6</td>\n",
       "      <td>Manual</td>\n",
       "      <td>28</td>\n",
       "      <td>Turbocharged/Supercharged</td>\n",
       "      <td>Y</td>\n",
       "      <td>2-Wheel Drive, Rear</td>\n",
       "      <td>10</td>\n",
       "      <td>Premium Unleaded Required</td>\n",
       "      <td>2</td>\n",
       "      <td>2.0</td>\n",
       "      <td>Direct ignition</td>\n",
       "    </tr>\n",
       "    <tr>\n",
       "      <th>2</th>\n",
       "      <td>Audi R8 AWD</td>\n",
       "      <td>65.0</td>\n",
       "      <td>5.2</td>\n",
       "      <td>10</td>\n",
       "      <td>7</td>\n",
       "      <td>Manual</td>\n",
       "      <td>17</td>\n",
       "      <td>Naturally Aspirated</td>\n",
       "      <td>Y</td>\n",
       "      <td>All Wheel Drive</td>\n",
       "      <td>15</td>\n",
       "      <td>Premium Unleaded Recommended</td>\n",
       "      <td>2</td>\n",
       "      <td>2.0</td>\n",
       "      <td>Direct ignition</td>\n",
       "    </tr>\n",
       "    <tr>\n",
       "      <th>3</th>\n",
       "      <td>Audi R8 RWD</td>\n",
       "      <td>71.0</td>\n",
       "      <td>5.2</td>\n",
       "      <td>10</td>\n",
       "      <td>7</td>\n",
       "      <td>Manual</td>\n",
       "      <td>18</td>\n",
       "      <td>Naturally Aspirated</td>\n",
       "      <td>Y</td>\n",
       "      <td>2-Wheel Drive, Rear</td>\n",
       "      <td>15</td>\n",
       "      <td>Premium Unleaded Recommended</td>\n",
       "      <td>2</td>\n",
       "      <td>2.0</td>\n",
       "      <td>Direct ignition</td>\n",
       "    </tr>\n",
       "  </tbody>\n",
       "</table>\n",
       "</div>"
      ],
      "text/plain": [
       "           model  model_index  displacement  cylinders  gears transmission  \\\n",
       "0      Acura NSX         57.0           3.5          6      9       Manual   \n",
       "1  ALFA ROMEO 4C        410.0           1.8          4      6       Manual   \n",
       "2    Audi R8 AWD         65.0           5.2         10      7       Manual   \n",
       "3    Audi R8 RWD         71.0           5.2         10      7       Manual   \n",
       "\n",
       "   mpg                 aspiration lockup_torque_converter  \\\n",
       "0   21  Turbocharged/Supercharged                       Y   \n",
       "1   28  Turbocharged/Supercharged                       Y   \n",
       "2   17        Naturally Aspirated                       Y   \n",
       "3   18        Naturally Aspirated                       Y   \n",
       "\n",
       "                 drive  max_ethanol              recommended_fuel  \\\n",
       "0      All Wheel Drive           10     Premium Unleaded Required   \n",
       "1  2-Wheel Drive, Rear           10     Premium Unleaded Required   \n",
       "2      All Wheel Drive           15  Premium Unleaded Recommended   \n",
       "3  2-Wheel Drive, Rear           15  Premium Unleaded Recommended   \n",
       "\n",
       "   intake_valves_per_cyl  exhaust_valves_per_cyl   fuel_injection  \n",
       "0                      2                     2.0  Direct ignition  \n",
       "1                      2                     2.0  Direct ignition  \n",
       "2                      2                     2.0  Direct ignition  \n",
       "3                      2                     2.0  Direct ignition  "
      ]
     },
     "execution_count": 23,
     "metadata": {},
     "output_type": "execute_result"
    }
   ],
   "source": [
    "df.head(4)"
   ]
  },
  {
   "cell_type": "code",
   "execution_count": 18,
   "id": "6bc240fb",
   "metadata": {},
   "outputs": [],
   "source": [
    "#1\n",
    "#id -- player inden\n",
    "#games-- number of games in season\n",
    "#2\n",
    "#input va outputni aniqlash\n",
    "#x- inputlar\n",
    "#y=xG(output//label)\n",
    "#kerkasizlarni drop(player_name)"
   ]
  },
  {
   "cell_type": "code",
   "execution_count": null,
   "id": "09ee0318",
   "metadata": {},
   "outputs": [
    {
     "ename": "KeyError",
     "evalue": "\"['player_name'] not found in axis\"",
     "output_type": "error",
     "traceback": [
      "\u001b[1;31m---------------------------------------------------------------------------\u001b[0m",
      "\u001b[1;31mKeyError\u001b[0m                                  Traceback (most recent call last)",
      "Cell \u001b[1;32mIn[19], line 1\u001b[0m\n\u001b[1;32m----> 1\u001b[0m \u001b[43mdf\u001b[49m\u001b[38;5;241;43m.\u001b[39;49m\u001b[43mdrop\u001b[49m\u001b[43m(\u001b[49m\u001b[38;5;124;43m'\u001b[39;49m\u001b[38;5;124;43mplayer_name\u001b[39;49m\u001b[38;5;124;43m'\u001b[39;49m\u001b[43m,\u001b[49m\u001b[43m \u001b[49m\u001b[43maxis\u001b[49m\u001b[38;5;241;43m=\u001b[39;49m\u001b[38;5;241;43m1\u001b[39;49m\u001b[43m,\u001b[49m\u001b[43minplace\u001b[49m\u001b[38;5;241;43m=\u001b[39;49m\u001b[38;5;28;43;01mTrue\u001b[39;49;00m\u001b[43m)\u001b[49m\n",
      "File \u001b[1;32m~\\AppData\\Roaming\\Python\\Python312\\site-packages\\pandas\\core\\frame.py:5581\u001b[0m, in \u001b[0;36mDataFrame.drop\u001b[1;34m(self, labels, axis, index, columns, level, inplace, errors)\u001b[0m\n\u001b[0;32m   5433\u001b[0m \u001b[38;5;28;01mdef\u001b[39;00m \u001b[38;5;21mdrop\u001b[39m(\n\u001b[0;32m   5434\u001b[0m     \u001b[38;5;28mself\u001b[39m,\n\u001b[0;32m   5435\u001b[0m     labels: IndexLabel \u001b[38;5;241m|\u001b[39m \u001b[38;5;28;01mNone\u001b[39;00m \u001b[38;5;241m=\u001b[39m \u001b[38;5;28;01mNone\u001b[39;00m,\n\u001b[1;32m   (...)\u001b[0m\n\u001b[0;32m   5442\u001b[0m     errors: IgnoreRaise \u001b[38;5;241m=\u001b[39m \u001b[38;5;124m\"\u001b[39m\u001b[38;5;124mraise\u001b[39m\u001b[38;5;124m\"\u001b[39m,\n\u001b[0;32m   5443\u001b[0m ) \u001b[38;5;241m-\u001b[39m\u001b[38;5;241m>\u001b[39m DataFrame \u001b[38;5;241m|\u001b[39m \u001b[38;5;28;01mNone\u001b[39;00m:\n\u001b[0;32m   5444\u001b[0m \u001b[38;5;250m    \u001b[39m\u001b[38;5;124;03m\"\"\"\u001b[39;00m\n\u001b[0;32m   5445\u001b[0m \u001b[38;5;124;03m    Drop specified labels from rows or columns.\u001b[39;00m\n\u001b[0;32m   5446\u001b[0m \n\u001b[1;32m   (...)\u001b[0m\n\u001b[0;32m   5579\u001b[0m \u001b[38;5;124;03m            weight  1.0     0.8\u001b[39;00m\n\u001b[0;32m   5580\u001b[0m \u001b[38;5;124;03m    \"\"\"\u001b[39;00m\n\u001b[1;32m-> 5581\u001b[0m     \u001b[38;5;28;01mreturn\u001b[39;00m \u001b[38;5;28;43msuper\u001b[39;49m\u001b[43m(\u001b[49m\u001b[43m)\u001b[49m\u001b[38;5;241;43m.\u001b[39;49m\u001b[43mdrop\u001b[49m\u001b[43m(\u001b[49m\n\u001b[0;32m   5582\u001b[0m \u001b[43m        \u001b[49m\u001b[43mlabels\u001b[49m\u001b[38;5;241;43m=\u001b[39;49m\u001b[43mlabels\u001b[49m\u001b[43m,\u001b[49m\n\u001b[0;32m   5583\u001b[0m \u001b[43m        \u001b[49m\u001b[43maxis\u001b[49m\u001b[38;5;241;43m=\u001b[39;49m\u001b[43maxis\u001b[49m\u001b[43m,\u001b[49m\n\u001b[0;32m   5584\u001b[0m \u001b[43m        \u001b[49m\u001b[43mindex\u001b[49m\u001b[38;5;241;43m=\u001b[39;49m\u001b[43mindex\u001b[49m\u001b[43m,\u001b[49m\n\u001b[0;32m   5585\u001b[0m \u001b[43m        \u001b[49m\u001b[43mcolumns\u001b[49m\u001b[38;5;241;43m=\u001b[39;49m\u001b[43mcolumns\u001b[49m\u001b[43m,\u001b[49m\n\u001b[0;32m   5586\u001b[0m \u001b[43m        \u001b[49m\u001b[43mlevel\u001b[49m\u001b[38;5;241;43m=\u001b[39;49m\u001b[43mlevel\u001b[49m\u001b[43m,\u001b[49m\n\u001b[0;32m   5587\u001b[0m \u001b[43m        \u001b[49m\u001b[43minplace\u001b[49m\u001b[38;5;241;43m=\u001b[39;49m\u001b[43minplace\u001b[49m\u001b[43m,\u001b[49m\n\u001b[0;32m   5588\u001b[0m \u001b[43m        \u001b[49m\u001b[43merrors\u001b[49m\u001b[38;5;241;43m=\u001b[39;49m\u001b[43merrors\u001b[49m\u001b[43m,\u001b[49m\n\u001b[0;32m   5589\u001b[0m \u001b[43m    \u001b[49m\u001b[43m)\u001b[49m\n",
      "File \u001b[1;32m~\\AppData\\Roaming\\Python\\Python312\\site-packages\\pandas\\core\\generic.py:4788\u001b[0m, in \u001b[0;36mNDFrame.drop\u001b[1;34m(self, labels, axis, index, columns, level, inplace, errors)\u001b[0m\n\u001b[0;32m   4786\u001b[0m \u001b[38;5;28;01mfor\u001b[39;00m axis, labels \u001b[38;5;129;01min\u001b[39;00m axes\u001b[38;5;241m.\u001b[39mitems():\n\u001b[0;32m   4787\u001b[0m     \u001b[38;5;28;01mif\u001b[39;00m labels \u001b[38;5;129;01mis\u001b[39;00m \u001b[38;5;129;01mnot\u001b[39;00m \u001b[38;5;28;01mNone\u001b[39;00m:\n\u001b[1;32m-> 4788\u001b[0m         obj \u001b[38;5;241m=\u001b[39m \u001b[43mobj\u001b[49m\u001b[38;5;241;43m.\u001b[39;49m\u001b[43m_drop_axis\u001b[49m\u001b[43m(\u001b[49m\u001b[43mlabels\u001b[49m\u001b[43m,\u001b[49m\u001b[43m \u001b[49m\u001b[43maxis\u001b[49m\u001b[43m,\u001b[49m\u001b[43m \u001b[49m\u001b[43mlevel\u001b[49m\u001b[38;5;241;43m=\u001b[39;49m\u001b[43mlevel\u001b[49m\u001b[43m,\u001b[49m\u001b[43m \u001b[49m\u001b[43merrors\u001b[49m\u001b[38;5;241;43m=\u001b[39;49m\u001b[43merrors\u001b[49m\u001b[43m)\u001b[49m\n\u001b[0;32m   4790\u001b[0m \u001b[38;5;28;01mif\u001b[39;00m inplace:\n\u001b[0;32m   4791\u001b[0m     \u001b[38;5;28mself\u001b[39m\u001b[38;5;241m.\u001b[39m_update_inplace(obj)\n",
      "File \u001b[1;32m~\\AppData\\Roaming\\Python\\Python312\\site-packages\\pandas\\core\\generic.py:4830\u001b[0m, in \u001b[0;36mNDFrame._drop_axis\u001b[1;34m(self, labels, axis, level, errors, only_slice)\u001b[0m\n\u001b[0;32m   4828\u001b[0m         new_axis \u001b[38;5;241m=\u001b[39m axis\u001b[38;5;241m.\u001b[39mdrop(labels, level\u001b[38;5;241m=\u001b[39mlevel, errors\u001b[38;5;241m=\u001b[39merrors)\n\u001b[0;32m   4829\u001b[0m     \u001b[38;5;28;01melse\u001b[39;00m:\n\u001b[1;32m-> 4830\u001b[0m         new_axis \u001b[38;5;241m=\u001b[39m \u001b[43maxis\u001b[49m\u001b[38;5;241;43m.\u001b[39;49m\u001b[43mdrop\u001b[49m\u001b[43m(\u001b[49m\u001b[43mlabels\u001b[49m\u001b[43m,\u001b[49m\u001b[43m \u001b[49m\u001b[43merrors\u001b[49m\u001b[38;5;241;43m=\u001b[39;49m\u001b[43merrors\u001b[49m\u001b[43m)\u001b[49m\n\u001b[0;32m   4831\u001b[0m     indexer \u001b[38;5;241m=\u001b[39m axis\u001b[38;5;241m.\u001b[39mget_indexer(new_axis)\n\u001b[0;32m   4833\u001b[0m \u001b[38;5;66;03m# Case for non-unique axis\u001b[39;00m\n\u001b[0;32m   4834\u001b[0m \u001b[38;5;28;01melse\u001b[39;00m:\n",
      "File \u001b[1;32m~\\AppData\\Roaming\\Python\\Python312\\site-packages\\pandas\\core\\indexes\\base.py:7070\u001b[0m, in \u001b[0;36mIndex.drop\u001b[1;34m(self, labels, errors)\u001b[0m\n\u001b[0;32m   7068\u001b[0m \u001b[38;5;28;01mif\u001b[39;00m mask\u001b[38;5;241m.\u001b[39many():\n\u001b[0;32m   7069\u001b[0m     \u001b[38;5;28;01mif\u001b[39;00m errors \u001b[38;5;241m!=\u001b[39m \u001b[38;5;124m\"\u001b[39m\u001b[38;5;124mignore\u001b[39m\u001b[38;5;124m\"\u001b[39m:\n\u001b[1;32m-> 7070\u001b[0m         \u001b[38;5;28;01mraise\u001b[39;00m \u001b[38;5;167;01mKeyError\u001b[39;00m(\u001b[38;5;124mf\u001b[39m\u001b[38;5;124m\"\u001b[39m\u001b[38;5;132;01m{\u001b[39;00mlabels[mask]\u001b[38;5;241m.\u001b[39mtolist()\u001b[38;5;132;01m}\u001b[39;00m\u001b[38;5;124m not found in axis\u001b[39m\u001b[38;5;124m\"\u001b[39m)\n\u001b[0;32m   7071\u001b[0m     indexer \u001b[38;5;241m=\u001b[39m indexer[\u001b[38;5;241m~\u001b[39mmask]\n\u001b[0;32m   7072\u001b[0m \u001b[38;5;28;01mreturn\u001b[39;00m \u001b[38;5;28mself\u001b[39m\u001b[38;5;241m.\u001b[39mdelete(indexer)\n",
      "\u001b[1;31mKeyError\u001b[0m: \"['player_name'] not found in axis\""
     ]
    }
   ],
   "source": [
    "# df.drop('player_name', axis=1,inplace=True)"
   ]
  },
  {
   "cell_type": "code",
   "execution_count": null,
   "id": "4b1b0f79",
   "metadata": {},
   "outputs": [
    {
     "data": {
      "text/html": [
       "<div>\n",
       "<style scoped>\n",
       "    .dataframe tbody tr th:only-of-type {\n",
       "        vertical-align: middle;\n",
       "    }\n",
       "\n",
       "    .dataframe tbody tr th {\n",
       "        vertical-align: top;\n",
       "    }\n",
       "\n",
       "    .dataframe thead th {\n",
       "        text-align: right;\n",
       "    }\n",
       "</style>\n",
       "<table border=\"1\" class=\"dataframe\">\n",
       "  <thead>\n",
       "    <tr style=\"text-align: right;\">\n",
       "      <th></th>\n",
       "      <th>id</th>\n",
       "      <th>games</th>\n",
       "      <th>time</th>\n",
       "      <th>goals</th>\n",
       "      <th>xG</th>\n",
       "      <th>assists</th>\n",
       "      <th>xA</th>\n",
       "      <th>shots</th>\n",
       "      <th>key_passes</th>\n",
       "      <th>yellow_cards</th>\n",
       "      <th>red_cards</th>\n",
       "      <th>position</th>\n",
       "      <th>team_title</th>\n",
       "      <th>npg</th>\n",
       "      <th>npxG</th>\n",
       "      <th>xGChain</th>\n",
       "      <th>xGBuildup</th>\n",
       "      <th>league_ratio</th>\n",
       "    </tr>\n",
       "  </thead>\n",
       "  <tbody>\n",
       "    <tr>\n",
       "      <th>0</th>\n",
       "      <td>619</td>\n",
       "      <td>33</td>\n",
       "      <td>2551</td>\n",
       "      <td>26</td>\n",
       "      <td>25.270160</td>\n",
       "      <td>8</td>\n",
       "      <td>5.568922</td>\n",
       "      <td>148</td>\n",
       "      <td>33</td>\n",
       "      <td>4</td>\n",
       "      <td>0</td>\n",
       "      <td>F S</td>\n",
       "      <td>Manchester City</td>\n",
       "      <td>21</td>\n",
       "      <td>20.703184</td>\n",
       "      <td>27.805155</td>\n",
       "      <td>6.878173</td>\n",
       "      <td>9</td>\n",
       "    </tr>\n",
       "    <tr>\n",
       "      <th>1</th>\n",
       "      <td>647</td>\n",
       "      <td>34</td>\n",
       "      <td>2589</td>\n",
       "      <td>21</td>\n",
       "      <td>17.157292</td>\n",
       "      <td>4</td>\n",
       "      <td>3.922501</td>\n",
       "      <td>112</td>\n",
       "      <td>27</td>\n",
       "      <td>4</td>\n",
       "      <td>0</td>\n",
       "      <td>F M S</td>\n",
       "      <td>Tottenham</td>\n",
       "      <td>19</td>\n",
       "      <td>14.873823</td>\n",
       "      <td>16.488439</td>\n",
       "      <td>5.549699</td>\n",
       "      <td>9</td>\n",
       "    </tr>\n",
       "    <tr>\n",
       "      <th>2</th>\n",
       "      <td>802</td>\n",
       "      <td>26</td>\n",
       "      <td>2111</td>\n",
       "      <td>20</td>\n",
       "      <td>15.219104</td>\n",
       "      <td>3</td>\n",
       "      <td>4.554671</td>\n",
       "      <td>76</td>\n",
       "      <td>41</td>\n",
       "      <td>8</td>\n",
       "      <td>0</td>\n",
       "      <td>F S</td>\n",
       "      <td>Chelsea</td>\n",
       "      <td>19</td>\n",
       "      <td>14.457935</td>\n",
       "      <td>21.365790</td>\n",
       "      <td>5.276973</td>\n",
       "      <td>9</td>\n",
       "    </tr>\n",
       "    <tr>\n",
       "      <th>3</th>\n",
       "      <td>848</td>\n",
       "      <td>35</td>\n",
       "      <td>3078</td>\n",
       "      <td>18</td>\n",
       "      <td>17.881850</td>\n",
       "      <td>5</td>\n",
       "      <td>2.548747</td>\n",
       "      <td>131</td>\n",
       "      <td>23</td>\n",
       "      <td>4</td>\n",
       "      <td>1</td>\n",
       "      <td>F</td>\n",
       "      <td>Queens Park Rangers</td>\n",
       "      <td>15</td>\n",
       "      <td>14.076043</td>\n",
       "      <td>13.718276</td>\n",
       "      <td>3.041321</td>\n",
       "      <td>9</td>\n",
       "    </tr>\n",
       "    <tr>\n",
       "      <th>4</th>\n",
       "      <td>498</td>\n",
       "      <td>35</td>\n",
       "      <td>2967</td>\n",
       "      <td>16</td>\n",
       "      <td>13.451750</td>\n",
       "      <td>8</td>\n",
       "      <td>8.494180</td>\n",
       "      <td>122</td>\n",
       "      <td>82</td>\n",
       "      <td>4</td>\n",
       "      <td>0</td>\n",
       "      <td>F M S</td>\n",
       "      <td>Arsenal</td>\n",
       "      <td>16</td>\n",
       "      <td>12.690581</td>\n",
       "      <td>27.157572</td>\n",
       "      <td>10.736753</td>\n",
       "      <td>9</td>\n",
       "    </tr>\n",
       "  </tbody>\n",
       "</table>\n",
       "</div>"
      ],
      "text/plain": [
       "    id  games  time  goals         xG  assists        xA  shots  key_passes  \\\n",
       "0  619     33  2551     26  25.270160        8  5.568922    148          33   \n",
       "1  647     34  2589     21  17.157292        4  3.922501    112          27   \n",
       "2  802     26  2111     20  15.219104        3  4.554671     76          41   \n",
       "3  848     35  3078     18  17.881850        5  2.548747    131          23   \n",
       "4  498     35  2967     16  13.451750        8  8.494180    122          82   \n",
       "\n",
       "   yellow_cards  red_cards position           team_title  npg       npxG  \\\n",
       "0             4          0      F S      Manchester City   21  20.703184   \n",
       "1             4          0    F M S            Tottenham   19  14.873823   \n",
       "2             8          0      F S              Chelsea   19  14.457935   \n",
       "3             4          1        F  Queens Park Rangers   15  14.076043   \n",
       "4             4          0    F M S              Arsenal   16  12.690581   \n",
       "\n",
       "     xGChain  xGBuildup  league_ratio  \n",
       "0  27.805155   6.878173             9  \n",
       "1  16.488439   5.549699             9  \n",
       "2  21.365790   5.276973             9  \n",
       "3  13.718276   3.041321             9  \n",
       "4  27.157572  10.736753             9  "
      ]
     },
     "execution_count": 13,
     "metadata": {},
     "output_type": "execute_result"
    }
   ],
   "source": [
    "df.head()"
   ]
  },
  {
   "cell_type": "code",
   "execution_count": 24,
   "id": "0c645afc",
   "metadata": {},
   "outputs": [
    {
     "name": "stdout",
     "output_type": "stream",
     "text": [
      "<class 'pandas.core.frame.DataFrame'>\n",
      "RangeIndex: 1144 entries, 0 to 1143\n",
      "Data columns (total 15 columns):\n",
      " #   Column                   Non-Null Count  Dtype  \n",
      "---  ------                   --------------  -----  \n",
      " 0   model                    1139 non-null   object \n",
      " 1   model_index              1138 non-null   float64\n",
      " 2   displacement             1144 non-null   float64\n",
      " 3   cylinders                1144 non-null   int64  \n",
      " 4   gears                    1144 non-null   int64  \n",
      " 5   transmission             1144 non-null   object \n",
      " 6   mpg                      1144 non-null   int64  \n",
      " 7   aspiration               1139 non-null   object \n",
      " 8   lockup_torque_converter  1140 non-null   object \n",
      " 9   drive                    1141 non-null   object \n",
      " 10  max_ethanol              1144 non-null   int64  \n",
      " 11  recommended_fuel         1144 non-null   object \n",
      " 12  intake_valves_per_cyl    1144 non-null   int64  \n",
      " 13  exhaust_valves_per_cyl   1139 non-null   float64\n",
      " 14  fuel_injection           1138 non-null   object \n",
      "dtypes: float64(3), int64(5), object(7)\n",
      "memory usage: 134.2+ KB\n"
     ]
    }
   ],
   "source": [
    "df.info()"
   ]
  },
  {
   "cell_type": "code",
   "execution_count": 25,
   "id": "bf1d9370",
   "metadata": {},
   "outputs": [
    {
     "data": {
      "text/plain": [
       "model                      5\n",
       "model_index                6\n",
       "displacement               0\n",
       "cylinders                  0\n",
       "gears                      0\n",
       "transmission               0\n",
       "mpg                        0\n",
       "aspiration                 5\n",
       "lockup_torque_converter    4\n",
       "drive                      3\n",
       "max_ethanol                0\n",
       "recommended_fuel           0\n",
       "intake_valves_per_cyl      0\n",
       "exhaust_valves_per_cyl     5\n",
       "fuel_injection             6\n",
       "dtype: int64"
      ]
     },
     "execution_count": 25,
     "metadata": {},
     "output_type": "execute_result"
    }
   ],
   "source": [
    "df.isnull().sum()"
   ]
  },
  {
   "cell_type": "markdown",
   "id": "63b49704",
   "metadata": {},
   "source": [
    "# Data Preprocessing"
   ]
  },
  {
   "cell_type": "code",
   "execution_count": 26,
   "id": "e260b5a0",
   "metadata": {},
   "outputs": [],
   "source": [
    "#Tushirilb qoldirilgan qiymatlarni toldiring"
   ]
  },
  {
   "cell_type": "markdown",
   "id": "175c281c",
   "metadata": {},
   "source": [
    "# Mean"
   ]
  },
  {
   "cell_type": "code",
   "execution_count": 27,
   "id": "d877fcee",
   "metadata": {},
   "outputs": [
    {
     "name": "stdout",
     "output_type": "stream",
     "text": [
      "<class 'pandas.core.frame.DataFrame'>\n",
      "RangeIndex: 1144 entries, 0 to 1143\n",
      "Data columns (total 15 columns):\n",
      " #   Column                   Non-Null Count  Dtype  \n",
      "---  ------                   --------------  -----  \n",
      " 0   model                    1139 non-null   object \n",
      " 1   model_index              1138 non-null   float64\n",
      " 2   displacement             1144 non-null   float64\n",
      " 3   cylinders                1144 non-null   int64  \n",
      " 4   gears                    1144 non-null   int64  \n",
      " 5   transmission             1144 non-null   object \n",
      " 6   mpg                      1144 non-null   int64  \n",
      " 7   aspiration               1139 non-null   object \n",
      " 8   lockup_torque_converter  1140 non-null   object \n",
      " 9   drive                    1141 non-null   object \n",
      " 10  max_ethanol              1144 non-null   int64  \n",
      " 11  recommended_fuel         1144 non-null   object \n",
      " 12  intake_valves_per_cyl    1144 non-null   int64  \n",
      " 13  exhaust_valves_per_cyl   1139 non-null   float64\n",
      " 14  fuel_injection           1138 non-null   object \n",
      "dtypes: float64(3), int64(5), object(7)\n",
      "memory usage: 134.2+ KB\n"
     ]
    }
   ],
   "source": [
    "df.info()"
   ]
  },
  {
   "cell_type": "code",
   "execution_count": 28,
   "id": "3d3f9931",
   "metadata": {},
   "outputs": [
    {
     "data": {
      "text/html": [
       "<div>\n",
       "<style scoped>\n",
       "    .dataframe tbody tr th:only-of-type {\n",
       "        vertical-align: middle;\n",
       "    }\n",
       "\n",
       "    .dataframe tbody tr th {\n",
       "        vertical-align: top;\n",
       "    }\n",
       "\n",
       "    .dataframe thead th {\n",
       "        text-align: right;\n",
       "    }\n",
       "</style>\n",
       "<table border=\"1\" class=\"dataframe\">\n",
       "  <thead>\n",
       "    <tr style=\"text-align: right;\">\n",
       "      <th></th>\n",
       "      <th>model</th>\n",
       "      <th>model_index</th>\n",
       "      <th>displacement</th>\n",
       "      <th>cylinders</th>\n",
       "      <th>gears</th>\n",
       "      <th>transmission</th>\n",
       "      <th>mpg</th>\n",
       "      <th>aspiration</th>\n",
       "      <th>lockup_torque_converter</th>\n",
       "      <th>drive</th>\n",
       "      <th>max_ethanol</th>\n",
       "      <th>recommended_fuel</th>\n",
       "      <th>intake_valves_per_cyl</th>\n",
       "      <th>exhaust_valves_per_cyl</th>\n",
       "      <th>fuel_injection</th>\n",
       "    </tr>\n",
       "  </thead>\n",
       "  <tbody>\n",
       "    <tr>\n",
       "      <th>0</th>\n",
       "      <td>Acura NSX</td>\n",
       "      <td>57.0</td>\n",
       "      <td>3.5</td>\n",
       "      <td>6</td>\n",
       "      <td>9</td>\n",
       "      <td>Manual</td>\n",
       "      <td>21</td>\n",
       "      <td>Turbocharged/Supercharged</td>\n",
       "      <td>Y</td>\n",
       "      <td>All Wheel Drive</td>\n",
       "      <td>10</td>\n",
       "      <td>Premium Unleaded Required</td>\n",
       "      <td>2</td>\n",
       "      <td>2.0</td>\n",
       "      <td>Direct ignition</td>\n",
       "    </tr>\n",
       "    <tr>\n",
       "      <th>1</th>\n",
       "      <td>ALFA ROMEO 4C</td>\n",
       "      <td>410.0</td>\n",
       "      <td>1.8</td>\n",
       "      <td>4</td>\n",
       "      <td>6</td>\n",
       "      <td>Manual</td>\n",
       "      <td>28</td>\n",
       "      <td>Turbocharged/Supercharged</td>\n",
       "      <td>Y</td>\n",
       "      <td>2-Wheel Drive, Rear</td>\n",
       "      <td>10</td>\n",
       "      <td>Premium Unleaded Required</td>\n",
       "      <td>2</td>\n",
       "      <td>2.0</td>\n",
       "      <td>Direct ignition</td>\n",
       "    </tr>\n",
       "    <tr>\n",
       "      <th>2</th>\n",
       "      <td>Audi R8 AWD</td>\n",
       "      <td>65.0</td>\n",
       "      <td>5.2</td>\n",
       "      <td>10</td>\n",
       "      <td>7</td>\n",
       "      <td>Manual</td>\n",
       "      <td>17</td>\n",
       "      <td>Naturally Aspirated</td>\n",
       "      <td>Y</td>\n",
       "      <td>All Wheel Drive</td>\n",
       "      <td>15</td>\n",
       "      <td>Premium Unleaded Recommended</td>\n",
       "      <td>2</td>\n",
       "      <td>2.0</td>\n",
       "      <td>Direct ignition</td>\n",
       "    </tr>\n",
       "    <tr>\n",
       "      <th>3</th>\n",
       "      <td>Audi R8 RWD</td>\n",
       "      <td>71.0</td>\n",
       "      <td>5.2</td>\n",
       "      <td>10</td>\n",
       "      <td>7</td>\n",
       "      <td>Manual</td>\n",
       "      <td>18</td>\n",
       "      <td>Naturally Aspirated</td>\n",
       "      <td>Y</td>\n",
       "      <td>2-Wheel Drive, Rear</td>\n",
       "      <td>15</td>\n",
       "      <td>Premium Unleaded Recommended</td>\n",
       "      <td>2</td>\n",
       "      <td>2.0</td>\n",
       "      <td>Direct ignition</td>\n",
       "    </tr>\n",
       "    <tr>\n",
       "      <th>4</th>\n",
       "      <td>Audi R8 Spyder AWD</td>\n",
       "      <td>66.0</td>\n",
       "      <td>5.2</td>\n",
       "      <td>10</td>\n",
       "      <td>7</td>\n",
       "      <td>Manual</td>\n",
       "      <td>17</td>\n",
       "      <td>Naturally Aspirated</td>\n",
       "      <td>Y</td>\n",
       "      <td>All Wheel Drive</td>\n",
       "      <td>15</td>\n",
       "      <td>Premium Unleaded Recommended</td>\n",
       "      <td>2</td>\n",
       "      <td>NaN</td>\n",
       "      <td>Direct ignition</td>\n",
       "    </tr>\n",
       "  </tbody>\n",
       "</table>\n",
       "</div>"
      ],
      "text/plain": [
       "                model  model_index  displacement  cylinders  gears  \\\n",
       "0           Acura NSX         57.0           3.5          6      9   \n",
       "1       ALFA ROMEO 4C        410.0           1.8          4      6   \n",
       "2         Audi R8 AWD         65.0           5.2         10      7   \n",
       "3         Audi R8 RWD         71.0           5.2         10      7   \n",
       "4  Audi R8 Spyder AWD         66.0           5.2         10      7   \n",
       "\n",
       "  transmission  mpg                 aspiration lockup_torque_converter  \\\n",
       "0       Manual   21  Turbocharged/Supercharged                       Y   \n",
       "1       Manual   28  Turbocharged/Supercharged                       Y   \n",
       "2       Manual   17        Naturally Aspirated                       Y   \n",
       "3       Manual   18        Naturally Aspirated                       Y   \n",
       "4       Manual   17        Naturally Aspirated                       Y   \n",
       "\n",
       "                 drive  max_ethanol              recommended_fuel  \\\n",
       "0      All Wheel Drive           10     Premium Unleaded Required   \n",
       "1  2-Wheel Drive, Rear           10     Premium Unleaded Required   \n",
       "2      All Wheel Drive           15  Premium Unleaded Recommended   \n",
       "3  2-Wheel Drive, Rear           15  Premium Unleaded Recommended   \n",
       "4      All Wheel Drive           15  Premium Unleaded Recommended   \n",
       "\n",
       "   intake_valves_per_cyl  exhaust_valves_per_cyl   fuel_injection  \n",
       "0                      2                     2.0  Direct ignition  \n",
       "1                      2                     2.0  Direct ignition  \n",
       "2                      2                     2.0  Direct ignition  \n",
       "3                      2                     2.0  Direct ignition  \n",
       "4                      2                     NaN  Direct ignition  "
      ]
     },
     "execution_count": 28,
     "metadata": {},
     "output_type": "execute_result"
    }
   ],
   "source": [
    "df.head()"
   ]
  },
  {
   "cell_type": "code",
   "execution_count": 29,
   "id": "d819c3c1",
   "metadata": {},
   "outputs": [
    {
     "data": {
      "text/plain": [
       "model                      5\n",
       "model_index                6\n",
       "displacement               0\n",
       "cylinders                  0\n",
       "gears                      0\n",
       "transmission               0\n",
       "mpg                        0\n",
       "aspiration                 5\n",
       "lockup_torque_converter    4\n",
       "drive                      3\n",
       "max_ethanol                0\n",
       "recommended_fuel           0\n",
       "intake_valves_per_cyl      0\n",
       "exhaust_valves_per_cyl     5\n",
       "fuel_injection             6\n",
       "dtype: int64"
      ]
     },
     "execution_count": 29,
     "metadata": {},
     "output_type": "execute_result"
    }
   ],
   "source": [
    "df.isnull().sum()"
   ]
  },
  {
   "cell_type": "code",
   "execution_count": 30,
   "id": "e9d063b7",
   "metadata": {},
   "outputs": [
    {
     "data": {
      "text/plain": [
       "0        57.0\n",
       "1       410.0\n",
       "2        65.0\n",
       "3        71.0\n",
       "4        66.0\n",
       "        ...  \n",
       "1139     86.0\n",
       "1140     37.0\n",
       "1141     33.0\n",
       "1142     53.0\n",
       "1143     52.0\n",
       "Name: model_index, Length: 1144, dtype: float64"
      ]
     },
     "execution_count": 30,
     "metadata": {},
     "output_type": "execute_result"
    }
   ],
   "source": [
    "df['model_index']"
   ]
  },
  {
   "cell_type": "code",
   "execution_count": 33,
   "id": "739065bd",
   "metadata": {},
   "outputs": [],
   "source": [
    "df['model_index'].fillna(df['model_index'].mean(),inplace=True)"
   ]
  },
  {
   "cell_type": "code",
   "execution_count": 34,
   "id": "2a50a1c0",
   "metadata": {},
   "outputs": [
    {
     "name": "stdout",
     "output_type": "stream",
     "text": [
      "<class 'pandas.core.frame.DataFrame'>\n",
      "RangeIndex: 1144 entries, 0 to 1143\n",
      "Data columns (total 15 columns):\n",
      " #   Column                   Non-Null Count  Dtype  \n",
      "---  ------                   --------------  -----  \n",
      " 0   model                    1139 non-null   object \n",
      " 1   model_index              1144 non-null   float64\n",
      " 2   displacement             1144 non-null   float64\n",
      " 3   cylinders                1144 non-null   int64  \n",
      " 4   gears                    1144 non-null   int64  \n",
      " 5   transmission             1144 non-null   object \n",
      " 6   mpg                      1144 non-null   int64  \n",
      " 7   aspiration               1139 non-null   object \n",
      " 8   lockup_torque_converter  1140 non-null   object \n",
      " 9   drive                    1141 non-null   object \n",
      " 10  max_ethanol              1144 non-null   int64  \n",
      " 11  recommended_fuel         1144 non-null   object \n",
      " 12  intake_valves_per_cyl    1144 non-null   int64  \n",
      " 13  exhaust_valves_per_cyl   1139 non-null   float64\n",
      " 14  fuel_injection           1138 non-null   object \n",
      "dtypes: float64(3), int64(5), object(7)\n",
      "memory usage: 134.2+ KB\n"
     ]
    }
   ],
   "source": [
    "df.info()"
   ]
  },
  {
   "cell_type": "markdown",
   "id": "dcab26a5",
   "metadata": {},
   "source": [
    "# Mode"
   ]
  },
  {
   "cell_type": "code",
   "execution_count": 35,
   "id": "30faca1f",
   "metadata": {},
   "outputs": [
    {
     "name": "stderr",
     "output_type": "stream",
     "text": [
      "C:\\Users\\davro\\AppData\\Local\\Temp\\ipykernel_24872\\510714758.py:1: FutureWarning: A value is trying to be set on a copy of a DataFrame or Series through chained assignment using an inplace method.\n",
      "The behavior will change in pandas 3.0. This inplace method will never work because the intermediate object on which we are setting values always behaves as a copy.\n",
      "\n",
      "For example, when doing 'df[col].method(value, inplace=True)', try using 'df.method({col: value}, inplace=True)' or df[col] = df[col].method(value) instead, to perform the operation inplace on the original object.\n",
      "\n",
      "\n",
      "  df['model'].fillna(df['model'].mode()[0],inplace=True)\n"
     ]
    }
   ],
   "source": [
    "df['model'].fillna(df['model'].mode()[0],inplace=True)"
   ]
  },
  {
   "cell_type": "code",
   "execution_count": 36,
   "id": "b6bec53b",
   "metadata": {},
   "outputs": [
    {
     "name": "stdout",
     "output_type": "stream",
     "text": [
      "<class 'pandas.core.frame.DataFrame'>\n",
      "RangeIndex: 1144 entries, 0 to 1143\n",
      "Data columns (total 15 columns):\n",
      " #   Column                   Non-Null Count  Dtype  \n",
      "---  ------                   --------------  -----  \n",
      " 0   model                    1144 non-null   object \n",
      " 1   model_index              1144 non-null   float64\n",
      " 2   displacement             1144 non-null   float64\n",
      " 3   cylinders                1144 non-null   int64  \n",
      " 4   gears                    1144 non-null   int64  \n",
      " 5   transmission             1144 non-null   object \n",
      " 6   mpg                      1144 non-null   int64  \n",
      " 7   aspiration               1139 non-null   object \n",
      " 8   lockup_torque_converter  1140 non-null   object \n",
      " 9   drive                    1141 non-null   object \n",
      " 10  max_ethanol              1144 non-null   int64  \n",
      " 11  recommended_fuel         1144 non-null   object \n",
      " 12  intake_valves_per_cyl    1144 non-null   int64  \n",
      " 13  exhaust_valves_per_cyl   1139 non-null   float64\n",
      " 14  fuel_injection           1138 non-null   object \n",
      "dtypes: float64(3), int64(5), object(7)\n",
      "memory usage: 134.2+ KB\n"
     ]
    }
   ],
   "source": [
    "df.info()"
   ]
  },
  {
   "cell_type": "code",
   "execution_count": 37,
   "id": "4d180a94",
   "metadata": {},
   "outputs": [
    {
     "name": "stderr",
     "output_type": "stream",
     "text": [
      "C:\\Users\\davro\\AppData\\Local\\Temp\\ipykernel_24872\\1774882619.py:1: FutureWarning: A value is trying to be set on a copy of a DataFrame or Series through chained assignment using an inplace method.\n",
      "The behavior will change in pandas 3.0. This inplace method will never work because the intermediate object on which we are setting values always behaves as a copy.\n",
      "\n",
      "For example, when doing 'df[col].method(value, inplace=True)', try using 'df.method({col: value}, inplace=True)' or df[col] = df[col].method(value) instead, to perform the operation inplace on the original object.\n",
      "\n",
      "\n",
      "  df['exhaust_valves_per_cyl'].fillna(df['exhaust_valves_per_cyl'].mode()[0],inplace=True)\n"
     ]
    }
   ],
   "source": [
    "df['exhaust_valves_per_cyl'].fillna(df['exhaust_valves_per_cyl'].mode()[0],inplace=True)"
   ]
  },
  {
   "cell_type": "code",
   "execution_count": 38,
   "id": "b7ecfeea",
   "metadata": {},
   "outputs": [
    {
     "name": "stdout",
     "output_type": "stream",
     "text": [
      "<class 'pandas.core.frame.DataFrame'>\n",
      "RangeIndex: 1144 entries, 0 to 1143\n",
      "Data columns (total 15 columns):\n",
      " #   Column                   Non-Null Count  Dtype  \n",
      "---  ------                   --------------  -----  \n",
      " 0   model                    1144 non-null   object \n",
      " 1   model_index              1144 non-null   float64\n",
      " 2   displacement             1144 non-null   float64\n",
      " 3   cylinders                1144 non-null   int64  \n",
      " 4   gears                    1144 non-null   int64  \n",
      " 5   transmission             1144 non-null   object \n",
      " 6   mpg                      1144 non-null   int64  \n",
      " 7   aspiration               1139 non-null   object \n",
      " 8   lockup_torque_converter  1140 non-null   object \n",
      " 9   drive                    1141 non-null   object \n",
      " 10  max_ethanol              1144 non-null   int64  \n",
      " 11  recommended_fuel         1144 non-null   object \n",
      " 12  intake_valves_per_cyl    1144 non-null   int64  \n",
      " 13  exhaust_valves_per_cyl   1144 non-null   float64\n",
      " 14  fuel_injection           1138 non-null   object \n",
      "dtypes: float64(3), int64(5), object(7)\n",
      "memory usage: 134.2+ KB\n"
     ]
    }
   ],
   "source": [
    "df.info()"
   ]
  },
  {
   "cell_type": "markdown",
   "id": "94c17149",
   "metadata": {},
   "source": [
    "# Median"
   ]
  },
  {
   "cell_type": "code",
   "execution_count": 42,
   "id": "9a464766",
   "metadata": {},
   "outputs": [
    {
     "name": "stderr",
     "output_type": "stream",
     "text": [
      "C:\\Users\\davro\\AppData\\Local\\Temp\\ipykernel_24872\\1487278068.py:1: FutureWarning: A value is trying to be set on a copy of a DataFrame or Series through chained assignment using an inplace method.\n",
      "The behavior will change in pandas 3.0. This inplace method will never work because the intermediate object on which we are setting values always behaves as a copy.\n",
      "\n",
      "For example, when doing 'df[col].method(value, inplace=True)', try using 'df.method({col: value}, inplace=True)' or df[col] = df[col].method(value) instead, to perform the operation inplace on the original object.\n",
      "\n",
      "\n",
      "  df['gears'].fillna(df['gears'].median(),inplace=True)\n"
     ]
    }
   ],
   "source": [
    "df['gears'].fillna(df['gears'].median(),inplace=True)"
   ]
  },
  {
   "cell_type": "code",
   "execution_count": 40,
   "id": "20b766e7",
   "metadata": {},
   "outputs": [
    {
     "name": "stdout",
     "output_type": "stream",
     "text": [
      "<class 'pandas.core.frame.DataFrame'>\n",
      "RangeIndex: 1144 entries, 0 to 1143\n",
      "Data columns (total 15 columns):\n",
      " #   Column                   Non-Null Count  Dtype  \n",
      "---  ------                   --------------  -----  \n",
      " 0   model                    1144 non-null   object \n",
      " 1   model_index              1144 non-null   float64\n",
      " 2   displacement             1144 non-null   float64\n",
      " 3   cylinders                1144 non-null   int64  \n",
      " 4   gears                    1144 non-null   int64  \n",
      " 5   transmission             1144 non-null   object \n",
      " 6   mpg                      1144 non-null   int64  \n",
      " 7   aspiration               1144 non-null   object \n",
      " 8   lockup_torque_converter  1140 non-null   object \n",
      " 9   drive                    1141 non-null   object \n",
      " 10  max_ethanol              1144 non-null   int64  \n",
      " 11  recommended_fuel         1144 non-null   object \n",
      " 12  intake_valves_per_cyl    1144 non-null   int64  \n",
      " 13  exhaust_valves_per_cyl   1144 non-null   float64\n",
      " 14  fuel_injection           1138 non-null   object \n",
      "dtypes: float64(3), int64(5), object(7)\n",
      "memory usage: 134.2+ KB\n"
     ]
    }
   ],
   "source": [
    "df.info()"
   ]
  },
  {
   "cell_type": "code",
   "execution_count": 43,
   "id": "f5a5b016",
   "metadata": {},
   "outputs": [
    {
     "data": {
      "text/html": [
       "<div>\n",
       "<style scoped>\n",
       "    .dataframe tbody tr th:only-of-type {\n",
       "        vertical-align: middle;\n",
       "    }\n",
       "\n",
       "    .dataframe tbody tr th {\n",
       "        vertical-align: top;\n",
       "    }\n",
       "\n",
       "    .dataframe thead th {\n",
       "        text-align: right;\n",
       "    }\n",
       "</style>\n",
       "<table border=\"1\" class=\"dataframe\">\n",
       "  <thead>\n",
       "    <tr style=\"text-align: right;\">\n",
       "      <th></th>\n",
       "      <th>model</th>\n",
       "      <th>model_index</th>\n",
       "      <th>displacement</th>\n",
       "      <th>cylinders</th>\n",
       "      <th>gears</th>\n",
       "      <th>transmission</th>\n",
       "      <th>mpg</th>\n",
       "      <th>aspiration</th>\n",
       "      <th>lockup_torque_converter</th>\n",
       "      <th>drive</th>\n",
       "      <th>max_ethanol</th>\n",
       "      <th>recommended_fuel</th>\n",
       "      <th>intake_valves_per_cyl</th>\n",
       "      <th>exhaust_valves_per_cyl</th>\n",
       "      <th>fuel_injection</th>\n",
       "    </tr>\n",
       "  </thead>\n",
       "  <tbody>\n",
       "    <tr>\n",
       "      <th>0</th>\n",
       "      <td>Acura NSX</td>\n",
       "      <td>57.0</td>\n",
       "      <td>3.5</td>\n",
       "      <td>6</td>\n",
       "      <td>9</td>\n",
       "      <td>Manual</td>\n",
       "      <td>21</td>\n",
       "      <td>Turbocharged/Supercharged</td>\n",
       "      <td>Y</td>\n",
       "      <td>All Wheel Drive</td>\n",
       "      <td>10</td>\n",
       "      <td>Premium Unleaded Required</td>\n",
       "      <td>2</td>\n",
       "      <td>2.0</td>\n",
       "      <td>Direct ignition</td>\n",
       "    </tr>\n",
       "    <tr>\n",
       "      <th>1</th>\n",
       "      <td>ALFA ROMEO 4C</td>\n",
       "      <td>410.0</td>\n",
       "      <td>1.8</td>\n",
       "      <td>4</td>\n",
       "      <td>6</td>\n",
       "      <td>Manual</td>\n",
       "      <td>28</td>\n",
       "      <td>Turbocharged/Supercharged</td>\n",
       "      <td>Y</td>\n",
       "      <td>2-Wheel Drive, Rear</td>\n",
       "      <td>10</td>\n",
       "      <td>Premium Unleaded Required</td>\n",
       "      <td>2</td>\n",
       "      <td>2.0</td>\n",
       "      <td>Direct ignition</td>\n",
       "    </tr>\n",
       "    <tr>\n",
       "      <th>2</th>\n",
       "      <td>Audi R8 AWD</td>\n",
       "      <td>65.0</td>\n",
       "      <td>5.2</td>\n",
       "      <td>10</td>\n",
       "      <td>7</td>\n",
       "      <td>Manual</td>\n",
       "      <td>17</td>\n",
       "      <td>Naturally Aspirated</td>\n",
       "      <td>Y</td>\n",
       "      <td>All Wheel Drive</td>\n",
       "      <td>15</td>\n",
       "      <td>Premium Unleaded Recommended</td>\n",
       "      <td>2</td>\n",
       "      <td>2.0</td>\n",
       "      <td>Direct ignition</td>\n",
       "    </tr>\n",
       "    <tr>\n",
       "      <th>3</th>\n",
       "      <td>Audi R8 RWD</td>\n",
       "      <td>71.0</td>\n",
       "      <td>5.2</td>\n",
       "      <td>10</td>\n",
       "      <td>7</td>\n",
       "      <td>Manual</td>\n",
       "      <td>18</td>\n",
       "      <td>Naturally Aspirated</td>\n",
       "      <td>Y</td>\n",
       "      <td>2-Wheel Drive, Rear</td>\n",
       "      <td>15</td>\n",
       "      <td>Premium Unleaded Recommended</td>\n",
       "      <td>2</td>\n",
       "      <td>2.0</td>\n",
       "      <td>Direct ignition</td>\n",
       "    </tr>\n",
       "    <tr>\n",
       "      <th>4</th>\n",
       "      <td>Audi R8 Spyder AWD</td>\n",
       "      <td>66.0</td>\n",
       "      <td>5.2</td>\n",
       "      <td>10</td>\n",
       "      <td>7</td>\n",
       "      <td>Manual</td>\n",
       "      <td>17</td>\n",
       "      <td>Naturally Aspirated</td>\n",
       "      <td>Y</td>\n",
       "      <td>All Wheel Drive</td>\n",
       "      <td>15</td>\n",
       "      <td>Premium Unleaded Recommended</td>\n",
       "      <td>2</td>\n",
       "      <td>2.0</td>\n",
       "      <td>Direct ignition</td>\n",
       "    </tr>\n",
       "  </tbody>\n",
       "</table>\n",
       "</div>"
      ],
      "text/plain": [
       "                model  model_index  displacement  cylinders  gears  \\\n",
       "0           Acura NSX         57.0           3.5          6      9   \n",
       "1       ALFA ROMEO 4C        410.0           1.8          4      6   \n",
       "2         Audi R8 AWD         65.0           5.2         10      7   \n",
       "3         Audi R8 RWD         71.0           5.2         10      7   \n",
       "4  Audi R8 Spyder AWD         66.0           5.2         10      7   \n",
       "\n",
       "  transmission  mpg                 aspiration lockup_torque_converter  \\\n",
       "0       Manual   21  Turbocharged/Supercharged                       Y   \n",
       "1       Manual   28  Turbocharged/Supercharged                       Y   \n",
       "2       Manual   17        Naturally Aspirated                       Y   \n",
       "3       Manual   18        Naturally Aspirated                       Y   \n",
       "4       Manual   17        Naturally Aspirated                       Y   \n",
       "\n",
       "                 drive  max_ethanol              recommended_fuel  \\\n",
       "0      All Wheel Drive           10     Premium Unleaded Required   \n",
       "1  2-Wheel Drive, Rear           10     Premium Unleaded Required   \n",
       "2      All Wheel Drive           15  Premium Unleaded Recommended   \n",
       "3  2-Wheel Drive, Rear           15  Premium Unleaded Recommended   \n",
       "4      All Wheel Drive           15  Premium Unleaded Recommended   \n",
       "\n",
       "   intake_valves_per_cyl  exhaust_valves_per_cyl   fuel_injection  \n",
       "0                      2                     2.0  Direct ignition  \n",
       "1                      2                     2.0  Direct ignition  \n",
       "2                      2                     2.0  Direct ignition  \n",
       "3                      2                     2.0  Direct ignition  \n",
       "4                      2                     2.0  Direct ignition  "
      ]
     },
     "execution_count": 43,
     "metadata": {},
     "output_type": "execute_result"
    }
   ],
   "source": [
    "df.head()"
   ]
  },
  {
   "cell_type": "code",
   "execution_count": 44,
   "id": "d0ce0cb5",
   "metadata": {},
   "outputs": [
    {
     "name": "stdout",
     "output_type": "stream",
     "text": [
      "<class 'pandas.core.frame.DataFrame'>\n",
      "RangeIndex: 1144 entries, 0 to 1143\n",
      "Data columns (total 15 columns):\n",
      " #   Column                   Non-Null Count  Dtype  \n",
      "---  ------                   --------------  -----  \n",
      " 0   model                    1144 non-null   object \n",
      " 1   model_index              1144 non-null   float64\n",
      " 2   displacement             1144 non-null   float64\n",
      " 3   cylinders                1144 non-null   int64  \n",
      " 4   gears                    1144 non-null   int64  \n",
      " 5   transmission             1144 non-null   object \n",
      " 6   mpg                      1144 non-null   int64  \n",
      " 7   aspiration               1144 non-null   object \n",
      " 8   lockup_torque_converter  1140 non-null   object \n",
      " 9   drive                    1141 non-null   object \n",
      " 10  max_ethanol              1144 non-null   int64  \n",
      " 11  recommended_fuel         1144 non-null   object \n",
      " 12  intake_valves_per_cyl    1144 non-null   int64  \n",
      " 13  exhaust_valves_per_cyl   1144 non-null   float64\n",
      " 14  fuel_injection           1138 non-null   object \n",
      "dtypes: float64(3), int64(5), object(7)\n",
      "memory usage: 134.2+ KB\n"
     ]
    }
   ],
   "source": [
    "df.info()"
   ]
  },
  {
   "cell_type": "markdown",
   "id": "80b88f14",
   "metadata": {},
   "source": [
    "# Fixed qiymat orqali "
   ]
  },
  {
   "cell_type": "code",
   "execution_count": 45,
   "id": "f1ae7993",
   "metadata": {},
   "outputs": [],
   "source": [
    "df['lockup_torque_converter'].fillna('Y',inplace=True)"
   ]
  },
  {
   "cell_type": "code",
   "execution_count": 46,
   "id": "76d79678",
   "metadata": {},
   "outputs": [
    {
     "name": "stdout",
     "output_type": "stream",
     "text": [
      "<class 'pandas.core.frame.DataFrame'>\n",
      "RangeIndex: 1144 entries, 0 to 1143\n",
      "Data columns (total 15 columns):\n",
      " #   Column                   Non-Null Count  Dtype  \n",
      "---  ------                   --------------  -----  \n",
      " 0   model                    1144 non-null   object \n",
      " 1   model_index              1144 non-null   float64\n",
      " 2   displacement             1144 non-null   float64\n",
      " 3   cylinders                1144 non-null   int64  \n",
      " 4   gears                    1144 non-null   int64  \n",
      " 5   transmission             1144 non-null   object \n",
      " 6   mpg                      1144 non-null   int64  \n",
      " 7   aspiration               1144 non-null   object \n",
      " 8   lockup_torque_converter  1144 non-null   object \n",
      " 9   drive                    1141 non-null   object \n",
      " 10  max_ethanol              1144 non-null   int64  \n",
      " 11  recommended_fuel         1144 non-null   object \n",
      " 12  intake_valves_per_cyl    1144 non-null   int64  \n",
      " 13  exhaust_valves_per_cyl   1144 non-null   float64\n",
      " 14  fuel_injection           1138 non-null   object \n",
      "dtypes: float64(3), int64(5), object(7)\n",
      "memory usage: 134.2+ KB\n"
     ]
    }
   ],
   "source": [
    "df.info()"
   ]
  },
  {
   "cell_type": "code",
   "execution_count": 47,
   "id": "58bcf046",
   "metadata": {},
   "outputs": [
    {
     "name": "stderr",
     "output_type": "stream",
     "text": [
      "C:\\Users\\davro\\AppData\\Local\\Temp\\ipykernel_24872\\1923667935.py:1: FutureWarning: A value is trying to be set on a copy of a DataFrame or Series through chained assignment using an inplace method.\n",
      "The behavior will change in pandas 3.0. This inplace method will never work because the intermediate object on which we are setting values always behaves as a copy.\n",
      "\n",
      "For example, when doing 'df[col].method(value, inplace=True)', try using 'df.method({col: value}, inplace=True)' or df[col] = df[col].method(value) instead, to perform the operation inplace on the original object.\n",
      "\n",
      "\n",
      "  df['max_ethanol'].fillna(28,inplace=True)\n"
     ]
    }
   ],
   "source": [
    "df['max_ethanol'].fillna(28,inplace=True)"
   ]
  },
  {
   "cell_type": "code",
   "execution_count": 49,
   "id": "8bb2725d",
   "metadata": {},
   "outputs": [],
   "source": [
    "df.dropna(inplace=True)"
   ]
  },
  {
   "cell_type": "code",
   "execution_count": 50,
   "id": "f316fb29",
   "metadata": {},
   "outputs": [
    {
     "name": "stdout",
     "output_type": "stream",
     "text": [
      "<class 'pandas.core.frame.DataFrame'>\n",
      "Index: 1135 entries, 0 to 1143\n",
      "Data columns (total 15 columns):\n",
      " #   Column                   Non-Null Count  Dtype  \n",
      "---  ------                   --------------  -----  \n",
      " 0   model                    1135 non-null   object \n",
      " 1   model_index              1135 non-null   float64\n",
      " 2   displacement             1135 non-null   float64\n",
      " 3   cylinders                1135 non-null   int64  \n",
      " 4   gears                    1135 non-null   int64  \n",
      " 5   transmission             1135 non-null   object \n",
      " 6   mpg                      1135 non-null   int64  \n",
      " 7   aspiration               1135 non-null   object \n",
      " 8   lockup_torque_converter  1135 non-null   object \n",
      " 9   drive                    1135 non-null   object \n",
      " 10  max_ethanol              1135 non-null   int64  \n",
      " 11  recommended_fuel         1135 non-null   object \n",
      " 12  intake_valves_per_cyl    1135 non-null   int64  \n",
      " 13  exhaust_valves_per_cyl   1135 non-null   float64\n",
      " 14  fuel_injection           1135 non-null   object \n",
      "dtypes: float64(3), int64(5), object(7)\n",
      "memory usage: 141.9+ KB\n"
     ]
    }
   ],
   "source": [
    "df.info()"
   ]
  },
  {
   "cell_type": "code",
   "execution_count": 52,
   "id": "3121ff52",
   "metadata": {},
   "outputs": [],
   "source": [
    "df.drop('exhaust_valves_per_cyl',axis=1,inplace=True)"
   ]
  },
  {
   "cell_type": "code",
   "execution_count": 55,
   "id": "40154b0e",
   "metadata": {},
   "outputs": [
    {
     "name": "stdout",
     "output_type": "stream",
     "text": [
      "<class 'pandas.core.frame.DataFrame'>\n",
      "RangeIndex: 1144 entries, 0 to 1143\n",
      "Data columns (total 15 columns):\n",
      " #   Column                   Non-Null Count  Dtype  \n",
      "---  ------                   --------------  -----  \n",
      " 0   model                    1139 non-null   object \n",
      " 1   model_index              1138 non-null   float64\n",
      " 2   displacement             1144 non-null   float64\n",
      " 3   cylinders                1144 non-null   int64  \n",
      " 4   gears                    1144 non-null   int64  \n",
      " 5   transmission             1144 non-null   object \n",
      " 6   mpg                      1144 non-null   int64  \n",
      " 7   aspiration               1139 non-null   object \n",
      " 8   lockup_torque_converter  1140 non-null   object \n",
      " 9   drive                    1141 non-null   object \n",
      " 10  max_ethanol              1144 non-null   int64  \n",
      " 11  recommended_fuel         1144 non-null   object \n",
      " 12  intake_valves_per_cyl    1144 non-null   int64  \n",
      " 13  exhaust_valves_per_cyl   1139 non-null   float64\n",
      " 14  fuel_injection           1138 non-null   object \n",
      "dtypes: float64(3), int64(5), object(7)\n",
      "memory usage: 134.2+ KB\n"
     ]
    }
   ],
   "source": [
    "df.info()"
   ]
  },
  {
   "cell_type": "code",
   "execution_count": 56,
   "id": "a0909b41",
   "metadata": {},
   "outputs": [
    {
     "data": {
      "text/plain": [
       "model                      5\n",
       "model_index                6\n",
       "displacement               0\n",
       "cylinders                  0\n",
       "gears                      0\n",
       "transmission               0\n",
       "mpg                        0\n",
       "aspiration                 5\n",
       "lockup_torque_converter    4\n",
       "drive                      3\n",
       "max_ethanol                0\n",
       "recommended_fuel           0\n",
       "intake_valves_per_cyl      0\n",
       "exhaust_valves_per_cyl     5\n",
       "fuel_injection             6\n",
       "dtype: int64"
      ]
     },
     "execution_count": 56,
     "metadata": {},
     "output_type": "execute_result"
    }
   ],
   "source": [
    "df.isnull().sum()"
   ]
  },
  {
   "cell_type": "code",
   "execution_count": 57,
   "id": "53aa99f9",
   "metadata": {},
   "outputs": [],
   "source": [
    "df.dropna(inplace=True)"
   ]
  },
  {
   "cell_type": "code",
   "execution_count": 58,
   "id": "bb50a5e2",
   "metadata": {},
   "outputs": [
    {
     "name": "stdout",
     "output_type": "stream",
     "text": [
      "<class 'pandas.core.frame.DataFrame'>\n",
      "Index: 1131 entries, 0 to 1143\n",
      "Data columns (total 15 columns):\n",
      " #   Column                   Non-Null Count  Dtype  \n",
      "---  ------                   --------------  -----  \n",
      " 0   model                    1131 non-null   object \n",
      " 1   model_index              1131 non-null   float64\n",
      " 2   displacement             1131 non-null   float64\n",
      " 3   cylinders                1131 non-null   int64  \n",
      " 4   gears                    1131 non-null   int64  \n",
      " 5   transmission             1131 non-null   object \n",
      " 6   mpg                      1131 non-null   int64  \n",
      " 7   aspiration               1131 non-null   object \n",
      " 8   lockup_torque_converter  1131 non-null   object \n",
      " 9   drive                    1131 non-null   object \n",
      " 10  max_ethanol              1131 non-null   int64  \n",
      " 11  recommended_fuel         1131 non-null   object \n",
      " 12  intake_valves_per_cyl    1131 non-null   int64  \n",
      " 13  exhaust_valves_per_cyl   1131 non-null   float64\n",
      " 14  fuel_injection           1131 non-null   object \n",
      "dtypes: float64(3), int64(5), object(7)\n",
      "memory usage: 141.4+ KB\n"
     ]
    }
   ],
   "source": [
    "df.info()"
   ]
  },
  {
   "cell_type": "code",
   "execution_count": null,
   "id": "037c0b61",
   "metadata": {},
   "outputs": [],
   "source": []
  }
 ],
 "metadata": {
  "kernelspec": {
   "display_name": "Python 3",
   "language": "python",
   "name": "python3"
  },
  "language_info": {
   "codemirror_mode": {
    "name": "ipython",
    "version": 3
   },
   "file_extension": ".py",
   "mimetype": "text/x-python",
   "name": "python",
   "nbconvert_exporter": "python",
   "pygments_lexer": "ipython3",
   "version": "3.12.8"
  }
 },
 "nbformat": 4,
 "nbformat_minor": 5
}
