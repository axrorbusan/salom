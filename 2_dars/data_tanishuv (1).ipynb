{
 "cells": [
  {
   "cell_type": "markdown",
   "id": "78ea838e",
   "metadata": {},
   "source": [
    "# Data Type\n"
   ]
  },
  {
   "cell_type": "code",
   "execution_count": 14,
   "id": "6f77ca44",
   "metadata": {},
   "outputs": [
    {
     "data": {
      "text/plain": [
       "int"
      ]
     },
     "execution_count": 14,
     "metadata": {},
     "output_type": "execute_result"
    }
   ],
   "source": [
    "#int\n",
    "# 2,23,2025,-45\n",
    "a=3\n",
    "type(a)"
   ]
  },
  {
   "cell_type": "code",
   "execution_count": 15,
   "id": "7df89543",
   "metadata": {},
   "outputs": [
    {
     "data": {
      "text/plain": [
       "float"
      ]
     },
     "execution_count": 15,
     "metadata": {},
     "output_type": "execute_result"
    }
   ],
   "source": [
    "#float\n",
    "b=3.4\n",
    "type(b)"
   ]
  },
  {
   "cell_type": "code",
   "execution_count": 16,
   "id": "2d084198",
   "metadata": {},
   "outputs": [
    {
     "data": {
      "text/plain": [
       "str"
      ]
     },
     "execution_count": 16,
     "metadata": {},
     "output_type": "execute_result"
    }
   ],
   "source": [
    "#string\n",
    "s='ok'\n",
    "type(s)"
   ]
  },
  {
   "cell_type": "code",
   "execution_count": 17,
   "id": "e7135b64",
   "metadata": {},
   "outputs": [
    {
     "data": {
      "text/plain": [
       "str"
      ]
     },
     "execution_count": 17,
     "metadata": {},
     "output_type": "execute_result"
    }
   ],
   "source": [
    "c='3'\n",
    "type(c)"
   ]
  },
  {
   "cell_type": "code",
   "execution_count": 19,
   "id": "65dcfebb",
   "metadata": {},
   "outputs": [
    {
     "data": {
      "text/plain": [
       "False"
      ]
     },
     "execution_count": 19,
     "metadata": {},
     "output_type": "execute_result"
    }
   ],
   "source": [
    "#Boolean(True,False)\n",
    "a=-3\n",
    "a>0"
   ]
  },
  {
   "cell_type": "code",
   "execution_count": 20,
   "id": "b926874a",
   "metadata": {},
   "outputs": [],
   "source": [
    "# Operations"
   ]
  },
  {
   "cell_type": "code",
   "execution_count": null,
   "id": "f00e3f6a",
   "metadata": {},
   "outputs": [],
   "source": [
    "+,-,/,*,**,//,%"
   ]
  },
  {
   "cell_type": "code",
   "execution_count": 21,
   "id": "2a8b7d42",
   "metadata": {},
   "outputs": [
    {
     "name": "stdout",
     "output_type": "stream",
     "text": [
      "13\n",
      "5\n",
      "36\n",
      "2.25\n"
     ]
    }
   ],
   "source": [
    "a=9\n",
    "b=4\n",
    "print(a+b)\n",
    "print(a-b)\n",
    "print(a*b)\n",
    "print(a/b)\n"
   ]
  },
  {
   "cell_type": "code",
   "execution_count": 22,
   "id": "6162e99b",
   "metadata": {},
   "outputs": [
    {
     "name": "stdout",
     "output_type": "stream",
     "text": [
      "2\n"
     ]
    }
   ],
   "source": [
    "print(a//b)   #butun qismini oladi\n"
   ]
  },
  {
   "cell_type": "code",
   "execution_count": 23,
   "id": "8b33f946",
   "metadata": {},
   "outputs": [
    {
     "name": "stdout",
     "output_type": "stream",
     "text": [
      "1\n"
     ]
    }
   ],
   "source": [
    "print(a%b)"
   ]
  },
  {
   "cell_type": "code",
   "execution_count": 24,
   "id": "f9a7a6af",
   "metadata": {},
   "outputs": [
    {
     "name": "stdout",
     "output_type": "stream",
     "text": [
      "6561\n"
     ]
    }
   ],
   "source": [
    "print(a**b)"
   ]
  },
  {
   "cell_type": "markdown",
   "id": "c7e64e57",
   "metadata": {},
   "source": [
    "# Vazifa"
   ]
  },
  {
   "cell_type": "code",
   "execution_count": null,
   "id": "4532c765",
   "metadata": {},
   "outputs": [],
   "source": [
    "#Istalgan ikki sonni yuqoridagi  operationslar orqali bajaring(masalan a=100 , b=49)"
   ]
  },
  {
   "cell_type": "markdown",
   "id": "9dc14f66",
   "metadata": {},
   "source": [
    "# Data bn tanishuv"
   ]
  },
  {
   "cell_type": "code",
   "execution_count": null,
   "id": "f375e950",
   "metadata": {},
   "outputs": [],
   "source": [
    "#pandas\n"
   ]
  },
  {
   "cell_type": "code",
   "execution_count": 6,
   "id": "5557f1f6",
   "metadata": {},
   "outputs": [
    {
     "name": "stdout",
     "output_type": "stream",
     "text": [
      "Defaulting to user installation because normal site-packages is not writeable\n",
      "Requirement already satisfied: pandas in c:\\users\\davro\\appdata\\roaming\\python\\python312\\site-packages (2.2.3)\n",
      "Requirement already satisfied: numpy>=1.26.0 in c:\\users\\davro\\appdata\\roaming\\python\\python312\\site-packages (from pandas) (2.3.2)\n",
      "Requirement already satisfied: python-dateutil>=2.8.2 in c:\\users\\davro\\appdata\\roaming\\python\\python312\\site-packages (from pandas) (2.9.0.post0)\n",
      "Requirement already satisfied: pytz>=2020.1 in c:\\users\\davro\\appdata\\roaming\\python\\python312\\site-packages (from pandas) (2025.1)\n",
      "Requirement already satisfied: tzdata>=2022.7 in c:\\users\\davro\\appdata\\roaming\\python\\python312\\site-packages (from pandas) (2025.1)\n",
      "Requirement already satisfied: six>=1.5 in c:\\users\\davro\\appdata\\roaming\\python\\python312\\site-packages (from python-dateutil>=2.8.2->pandas) (1.16.0)\n"
     ]
    },
    {
     "name": "stderr",
     "output_type": "stream",
     "text": [
      "\n",
      "[notice] A new release of pip is available: 24.3.1 -> 25.2\n",
      "[notice] To update, run: python.exe -m pip install --upgrade pip\n"
     ]
    }
   ],
   "source": [
    "#Kutubxonalarni install qilish\n",
    "#1\n",
    "!pip install pandas"
   ]
  },
  {
   "cell_type": "markdown",
   "id": "2a66c375",
   "metadata": {},
   "source": []
  },
  {
   "cell_type": "code",
   "execution_count": 7,
   "id": "a6bd923d",
   "metadata": {},
   "outputs": [
    {
     "name": "stdout",
     "output_type": "stream",
     "text": [
      "Defaulting to user installation because normal site-packages is not writeable\n",
      "Requirement already satisfied: pandas in c:\\users\\davro\\appdata\\roaming\\python\\python312\\site-packages (2.2.3)\n",
      "Requirement already satisfied: numpy>=1.26.0 in c:\\users\\davro\\appdata\\roaming\\python\\python312\\site-packages (from pandas) (2.3.2)\n",
      "Requirement already satisfied: python-dateutil>=2.8.2 in c:\\users\\davro\\appdata\\roaming\\python\\python312\\site-packages (from pandas) (2.9.0.post0)\n",
      "Requirement already satisfied: pytz>=2020.1 in c:\\users\\davro\\appdata\\roaming\\python\\python312\\site-packages (from pandas) (2025.1)\n",
      "Requirement already satisfied: tzdata>=2022.7 in c:\\users\\davro\\appdata\\roaming\\python\\python312\\site-packages (from pandas) (2025.1)\n",
      "Requirement already satisfied: six>=1.5 in c:\\users\\davro\\appdata\\roaming\\python\\python312\\site-packages (from python-dateutil>=2.8.2->pandas) (1.16.0)\n",
      "Note: you may need to restart the kernel to use updated packages.\n"
     ]
    },
    {
     "name": "stderr",
     "output_type": "stream",
     "text": [
      "\n",
      "[notice] A new release of pip is available: 24.3.1 -> 25.2\n",
      "[notice] To update, run: python.exe -m pip install --upgrade pip\n"
     ]
    }
   ],
   "source": [
    "#2\n",
    "%pip install pandas"
   ]
  },
  {
   "cell_type": "code",
   "execution_count": null,
   "id": "9addb967",
   "metadata": {},
   "outputs": [
    {
     "ename": "SyntaxError",
     "evalue": "invalid syntax (800709310.py, line 2)",
     "output_type": "error",
     "traceback": [
      "\u001b[1;36m  Cell \u001b[1;32mIn[8], line 2\u001b[1;36m\u001b[0m\n\u001b[1;33m    pip install pandas\u001b[0m\n\u001b[1;37m        ^\u001b[0m\n\u001b[1;31mSyntaxError\u001b[0m\u001b[1;31m:\u001b[0m invalid syntax\n"
     ]
    }
   ],
   "source": [
    "#3\n",
    "pip install pandas"
   ]
  },
  {
   "cell_type": "code",
   "execution_count": null,
   "id": "c233f7d1",
   "metadata": {},
   "outputs": [],
   "source": [
    "import pandas as pd \n",
    "import numpy as np"
   ]
  },
  {
   "cell_type": "code",
   "execution_count": null,
   "id": "db5d0ba4",
   "metadata": {},
   "outputs": [],
   "source": [
    "#Datasetni yuklash\n",
    "df=pd.read_csv('metadata_premier_league_1415.xls')"
   ]
  },
  {
   "cell_type": "code",
   "execution_count": 11,
   "id": "e1f14f61",
   "metadata": {},
   "outputs": [
    {
     "data": {
      "text/html": [
       "<div>\n",
       "<style scoped>\n",
       "    .dataframe tbody tr th:only-of-type {\n",
       "        vertical-align: middle;\n",
       "    }\n",
       "\n",
       "    .dataframe tbody tr th {\n",
       "        vertical-align: top;\n",
       "    }\n",
       "\n",
       "    .dataframe thead th {\n",
       "        text-align: right;\n",
       "    }\n",
       "</style>\n",
       "<table border=\"1\" class=\"dataframe\">\n",
       "  <thead>\n",
       "    <tr style=\"text-align: right;\">\n",
       "      <th></th>\n",
       "      <th>id</th>\n",
       "      <th>player_name</th>\n",
       "      <th>games</th>\n",
       "      <th>time</th>\n",
       "      <th>goals</th>\n",
       "      <th>xG</th>\n",
       "      <th>assists</th>\n",
       "      <th>xA</th>\n",
       "      <th>shots</th>\n",
       "      <th>key_passes</th>\n",
       "      <th>yellow_cards</th>\n",
       "      <th>red_cards</th>\n",
       "      <th>position</th>\n",
       "      <th>team_title</th>\n",
       "      <th>npg</th>\n",
       "      <th>npxG</th>\n",
       "      <th>xGChain</th>\n",
       "      <th>xGBuildup</th>\n",
       "      <th>league_ratio</th>\n",
       "    </tr>\n",
       "  </thead>\n",
       "  <tbody>\n",
       "    <tr>\n",
       "      <th>0</th>\n",
       "      <td>619</td>\n",
       "      <td>Sergio Aguero</td>\n",
       "      <td>33</td>\n",
       "      <td>2551</td>\n",
       "      <td>26</td>\n",
       "      <td>25.270160</td>\n",
       "      <td>8</td>\n",
       "      <td>5.568922</td>\n",
       "      <td>148</td>\n",
       "      <td>33</td>\n",
       "      <td>4</td>\n",
       "      <td>0</td>\n",
       "      <td>F S</td>\n",
       "      <td>Manchester City</td>\n",
       "      <td>21</td>\n",
       "      <td>20.703184</td>\n",
       "      <td>27.805155</td>\n",
       "      <td>6.878173</td>\n",
       "      <td>9</td>\n",
       "    </tr>\n",
       "    <tr>\n",
       "      <th>1</th>\n",
       "      <td>647</td>\n",
       "      <td>Harry Kane</td>\n",
       "      <td>34</td>\n",
       "      <td>2589</td>\n",
       "      <td>21</td>\n",
       "      <td>17.157292</td>\n",
       "      <td>4</td>\n",
       "      <td>3.922501</td>\n",
       "      <td>112</td>\n",
       "      <td>27</td>\n",
       "      <td>4</td>\n",
       "      <td>0</td>\n",
       "      <td>F M S</td>\n",
       "      <td>Tottenham</td>\n",
       "      <td>19</td>\n",
       "      <td>14.873823</td>\n",
       "      <td>16.488439</td>\n",
       "      <td>5.549699</td>\n",
       "      <td>9</td>\n",
       "    </tr>\n",
       "    <tr>\n",
       "      <th>2</th>\n",
       "      <td>802</td>\n",
       "      <td>Diego Costa</td>\n",
       "      <td>26</td>\n",
       "      <td>2111</td>\n",
       "      <td>20</td>\n",
       "      <td>15.219104</td>\n",
       "      <td>3</td>\n",
       "      <td>4.554671</td>\n",
       "      <td>76</td>\n",
       "      <td>41</td>\n",
       "      <td>8</td>\n",
       "      <td>0</td>\n",
       "      <td>F S</td>\n",
       "      <td>Chelsea</td>\n",
       "      <td>19</td>\n",
       "      <td>14.457935</td>\n",
       "      <td>21.365790</td>\n",
       "      <td>5.276973</td>\n",
       "      <td>9</td>\n",
       "    </tr>\n",
       "    <tr>\n",
       "      <th>3</th>\n",
       "      <td>848</td>\n",
       "      <td>Charlie Austin</td>\n",
       "      <td>35</td>\n",
       "      <td>3078</td>\n",
       "      <td>18</td>\n",
       "      <td>17.881850</td>\n",
       "      <td>5</td>\n",
       "      <td>2.548747</td>\n",
       "      <td>131</td>\n",
       "      <td>23</td>\n",
       "      <td>4</td>\n",
       "      <td>1</td>\n",
       "      <td>F</td>\n",
       "      <td>Queens Park Rangers</td>\n",
       "      <td>15</td>\n",
       "      <td>14.076043</td>\n",
       "      <td>13.718276</td>\n",
       "      <td>3.041321</td>\n",
       "      <td>9</td>\n",
       "    </tr>\n",
       "    <tr>\n",
       "      <th>4</th>\n",
       "      <td>498</td>\n",
       "      <td>Alexis S??nchez</td>\n",
       "      <td>35</td>\n",
       "      <td>2967</td>\n",
       "      <td>16</td>\n",
       "      <td>13.451750</td>\n",
       "      <td>8</td>\n",
       "      <td>8.494180</td>\n",
       "      <td>122</td>\n",
       "      <td>82</td>\n",
       "      <td>4</td>\n",
       "      <td>0</td>\n",
       "      <td>F M S</td>\n",
       "      <td>Arsenal</td>\n",
       "      <td>16</td>\n",
       "      <td>12.690581</td>\n",
       "      <td>27.157572</td>\n",
       "      <td>10.736753</td>\n",
       "      <td>9</td>\n",
       "    </tr>\n",
       "    <tr>\n",
       "      <th>...</th>\n",
       "      <td>...</td>\n",
       "      <td>...</td>\n",
       "      <td>...</td>\n",
       "      <td>...</td>\n",
       "      <td>...</td>\n",
       "      <td>...</td>\n",
       "      <td>...</td>\n",
       "      <td>...</td>\n",
       "      <td>...</td>\n",
       "      <td>...</td>\n",
       "      <td>...</td>\n",
       "      <td>...</td>\n",
       "      <td>...</td>\n",
       "      <td>...</td>\n",
       "      <td>...</td>\n",
       "      <td>...</td>\n",
       "      <td>...</td>\n",
       "      <td>...</td>\n",
       "      <td>...</td>\n",
       "    </tr>\n",
       "    <tr>\n",
       "      <th>526</th>\n",
       "      <td>4528</td>\n",
       "      <td>Alejandro Faurlin</td>\n",
       "      <td>2</td>\n",
       "      <td>94</td>\n",
       "      <td>0</td>\n",
       "      <td>0.112558</td>\n",
       "      <td>0</td>\n",
       "      <td>0.485984</td>\n",
       "      <td>3</td>\n",
       "      <td>1</td>\n",
       "      <td>0</td>\n",
       "      <td>0</td>\n",
       "      <td>M S</td>\n",
       "      <td>Queens Park Rangers</td>\n",
       "      <td>0</td>\n",
       "      <td>0.112558</td>\n",
       "      <td>0.055192</td>\n",
       "      <td>0.022536</td>\n",
       "      <td>9</td>\n",
       "    </tr>\n",
       "    <tr>\n",
       "      <th>527</th>\n",
       "      <td>4530</td>\n",
       "      <td>Valentin Roberge</td>\n",
       "      <td>1</td>\n",
       "      <td>90</td>\n",
       "      <td>0</td>\n",
       "      <td>0.282559</td>\n",
       "      <td>0</td>\n",
       "      <td>0.000000</td>\n",
       "      <td>1</td>\n",
       "      <td>0</td>\n",
       "      <td>1</td>\n",
       "      <td>0</td>\n",
       "      <td>D</td>\n",
       "      <td>Sunderland</td>\n",
       "      <td>0</td>\n",
       "      <td>0.282559</td>\n",
       "      <td>0.000000</td>\n",
       "      <td>0.000000</td>\n",
       "      <td>9</td>\n",
       "    </tr>\n",
       "    <tr>\n",
       "      <th>528</th>\n",
       "      <td>4531</td>\n",
       "      <td>Stuart O&amp;#039;Keefe</td>\n",
       "      <td>2</td>\n",
       "      <td>88</td>\n",
       "      <td>0</td>\n",
       "      <td>0.000000</td>\n",
       "      <td>0</td>\n",
       "      <td>0.019946</td>\n",
       "      <td>0</td>\n",
       "      <td>1</td>\n",
       "      <td>0</td>\n",
       "      <td>0</td>\n",
       "      <td>M S</td>\n",
       "      <td>Crystal Palace</td>\n",
       "      <td>0</td>\n",
       "      <td>0.000000</td>\n",
       "      <td>0.019946</td>\n",
       "      <td>0.019946</td>\n",
       "      <td>9</td>\n",
       "    </tr>\n",
       "    <tr>\n",
       "      <th>529</th>\n",
       "      <td>4532</td>\n",
       "      <td>Gary Taylor-Fletcher</td>\n",
       "      <td>1</td>\n",
       "      <td>16</td>\n",
       "      <td>0</td>\n",
       "      <td>0.000000</td>\n",
       "      <td>0</td>\n",
       "      <td>0.000000</td>\n",
       "      <td>0</td>\n",
       "      <td>0</td>\n",
       "      <td>0</td>\n",
       "      <td>0</td>\n",
       "      <td>S</td>\n",
       "      <td>Leicester</td>\n",
       "      <td>0</td>\n",
       "      <td>0.000000</td>\n",
       "      <td>0.000000</td>\n",
       "      <td>0.000000</td>\n",
       "      <td>9</td>\n",
       "    </tr>\n",
       "    <tr>\n",
       "      <th>530</th>\n",
       "      <td>4536</td>\n",
       "      <td>Nani</td>\n",
       "      <td>1</td>\n",
       "      <td>41</td>\n",
       "      <td>0</td>\n",
       "      <td>0.000000</td>\n",
       "      <td>0</td>\n",
       "      <td>0.000000</td>\n",
       "      <td>0</td>\n",
       "      <td>0</td>\n",
       "      <td>0</td>\n",
       "      <td>0</td>\n",
       "      <td>S</td>\n",
       "      <td>Manchester United</td>\n",
       "      <td>0</td>\n",
       "      <td>0.000000</td>\n",
       "      <td>0.073149</td>\n",
       "      <td>0.073149</td>\n",
       "      <td>9</td>\n",
       "    </tr>\n",
       "  </tbody>\n",
       "</table>\n",
       "<p>531 rows × 19 columns</p>\n",
       "</div>"
      ],
      "text/plain": [
       "       id           player_name  games  time  goals         xG  assists  \\\n",
       "0     619         Sergio Aguero     33  2551     26  25.270160        8   \n",
       "1     647            Harry Kane     34  2589     21  17.157292        4   \n",
       "2     802           Diego Costa     26  2111     20  15.219104        3   \n",
       "3     848        Charlie Austin     35  3078     18  17.881850        5   \n",
       "4     498       Alexis S??nchez     35  2967     16  13.451750        8   \n",
       "..    ...                   ...    ...   ...    ...        ...      ...   \n",
       "526  4528     Alejandro Faurlin      2    94      0   0.112558        0   \n",
       "527  4530      Valentin Roberge      1    90      0   0.282559        0   \n",
       "528  4531   Stuart O&#039;Keefe      2    88      0   0.000000        0   \n",
       "529  4532  Gary Taylor-Fletcher      1    16      0   0.000000        0   \n",
       "530  4536                  Nani      1    41      0   0.000000        0   \n",
       "\n",
       "           xA  shots  key_passes  yellow_cards  red_cards position  \\\n",
       "0    5.568922    148          33             4          0      F S   \n",
       "1    3.922501    112          27             4          0    F M S   \n",
       "2    4.554671     76          41             8          0      F S   \n",
       "3    2.548747    131          23             4          1        F   \n",
       "4    8.494180    122          82             4          0    F M S   \n",
       "..        ...    ...         ...           ...        ...      ...   \n",
       "526  0.485984      3           1             0          0      M S   \n",
       "527  0.000000      1           0             1          0        D   \n",
       "528  0.019946      0           1             0          0      M S   \n",
       "529  0.000000      0           0             0          0        S   \n",
       "530  0.000000      0           0             0          0        S   \n",
       "\n",
       "              team_title  npg       npxG    xGChain  xGBuildup  league_ratio  \n",
       "0        Manchester City   21  20.703184  27.805155   6.878173             9  \n",
       "1              Tottenham   19  14.873823  16.488439   5.549699             9  \n",
       "2                Chelsea   19  14.457935  21.365790   5.276973             9  \n",
       "3    Queens Park Rangers   15  14.076043  13.718276   3.041321             9  \n",
       "4                Arsenal   16  12.690581  27.157572  10.736753             9  \n",
       "..                   ...  ...        ...        ...        ...           ...  \n",
       "526  Queens Park Rangers    0   0.112558   0.055192   0.022536             9  \n",
       "527           Sunderland    0   0.282559   0.000000   0.000000             9  \n",
       "528       Crystal Palace    0   0.000000   0.019946   0.019946             9  \n",
       "529            Leicester    0   0.000000   0.000000   0.000000             9  \n",
       "530    Manchester United    0   0.000000   0.073149   0.073149             9  \n",
       "\n",
       "[531 rows x 19 columns]"
      ]
     },
     "execution_count": 11,
     "metadata": {},
     "output_type": "execute_result"
    }
   ],
   "source": [
    "df"
   ]
  },
  {
   "cell_type": "code",
   "execution_count": 13,
   "id": "87bcfc2a",
   "metadata": {},
   "outputs": [],
   "source": [
    "#Datasetni yuklash\n",
    "df=pd.read_csv('metadata_premier_league_1415.xls')"
   ]
  },
  {
   "cell_type": "code",
   "execution_count": null,
   "id": "0f82393e",
   "metadata": {},
   "outputs": [],
   "source": []
  }
 ],
 "metadata": {
  "kernelspec": {
   "display_name": "Python 3",
   "language": "python",
   "name": "python3"
  },
  "language_info": {
   "codemirror_mode": {
    "name": "ipython",
    "version": 3
   },
   "file_extension": ".py",
   "mimetype": "text/x-python",
   "name": "python",
   "nbconvert_exporter": "python",
   "pygments_lexer": "ipython3",
   "version": "3.12.8"
  }
 },
 "nbformat": 4,
 "nbformat_minor": 5
}
